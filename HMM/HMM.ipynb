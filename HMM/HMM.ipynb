{
 "cells": [
  {
   "cell_type": "markdown",
   "metadata": {},
   "source": [
    "# Volume 3: Discrete Hidden Markov Models\n",
    "    Bryant McArthur\n",
    "    Math 405\n",
    "    February 14"
   ]
  },
  {
   "cell_type": "code",
   "execution_count": 1,
   "metadata": {},
   "outputs": [],
   "source": [
    "import numpy as np\n",
    "import copy\n",
    "import string\n",
    "import codecs"
   ]
  },
  {
   "cell_type": "code",
   "execution_count": 2,
   "metadata": {},
   "outputs": [],
   "source": [
    "class HMM(object):\n",
    "    \"\"\"\n",
    "    Finite state space hidden markov model.\n",
    "    \"\"\"\n",
    "    \n",
    "    # Problem 1\n",
    "    def __init__(self):\n",
    "        \"\"\"\n",
    "        Initialize an HMM with parameters A, B, and pi, initialized as \n",
    "        None objects.\n",
    "        \"\"\"\n",
    "        self.A = None\n",
    "        self.B = None\n",
    "        self.pi = None\n",
    "    \n",
    "    \n",
    "    # Problem 2\n",
    "    def _forward(self, z):\n",
    "        \"\"\"\n",
    "        Compute the scaled forward probability matrix and scaling factors.\n",
    "        \n",
    "        Parameters\n",
    "        ----------\n",
    "        z : ndarray of shape (T,) \n",
    "            The sequence of observations\n",
    "        \n",
    "        Returns\n",
    "        -------\n",
    "        alpha : ndarray of shape (T, n)\n",
    "            The scaled forward probability matrix\n",
    "        \n",
    "        c : ndarray of shape (T,)\n",
    "            The scaling factors c = [c_0, c_1, ..., c_{T-1}]\n",
    "        \"\"\"\n",
    "        alpha = np.empty((len(z),len(self.pi)))\n",
    "        \n",
    "        alpha0 = self.pi*self.B[z[0]]\n",
    "        c = [1/np.sum(alpha0)]\n",
    "        alpha[0] = c[0]*alpha0\n",
    "        \n",
    "        # Forward loop\n",
    "        for t in range(1, len(z)):\n",
    "            for i in range(len(self.pi)):\n",
    "                alpha[t,i] = np.sum([alpha[t-1,j]*self.A[i,j]*self.B[z[t],i] for j in range(len(self.pi))])\n",
    "            c.append(1/np.sum(alpha[t]))\n",
    "            alpha[t] = c[t]*alpha[t]\n",
    "            \n",
    "        return alpha, c\n",
    "        \n",
    "    \n",
    "    \n",
    "    # Problem 3\n",
    "    def _backward(self, z, c):\n",
    "        \"\"\"\n",
    "        Compute the scaled backward probability matrix.\n",
    "        \n",
    "        Parameters\n",
    "        ----------\n",
    "        z : ndarray of shape (T,) \n",
    "            The sequence of observations\n",
    "        c : ndarray of shape (T,)\n",
    "            The scaling factors from the forward pass\n",
    "\n",
    "        Returns\n",
    "        -------\n",
    "        beta : ndarray of shape (T, n)\n",
    "            The scaled backward probability matrix\n",
    "        \"\"\"\n",
    "        beta = np.empty((len(z),len(self.pi)))\n",
    "        beta[-1] = np.ones(len(self.pi))*c[-1]\n",
    "        \n",
    "        # Backward loop\n",
    "        for t in range(len(z)-2, -1, -1):\n",
    "            beta[t] = [np.sum([self.A[i,j]*beta[t+1,i]*self.B[z[t+1],i] for i in range(len(self.pi))]) for j in range(len(self.pi))]\n",
    "            beta[t] *= c[t]\n",
    "                \n",
    "        return beta\n",
    "        \n",
    "    \n",
    "    \n",
    "    # Problem 4\n",
    "    def _xi(self, z, alpha, beta, c):\n",
    "        \"\"\"\n",
    "        Compute the xi and gamma probabilities.\n",
    "\n",
    "        Parameters\n",
    "        ----------\n",
    "        z : ndarray of shape (T,)\n",
    "            The observation sequence\n",
    "        alpha : ndarray of shape (T, n)\n",
    "            The scaled forward probability matrix from the forward pass\n",
    "        beta : ndarray of shape (T, n)\n",
    "            The scaled backward probability matrix from the backward pass\n",
    "        c : ndarray of shape (T,)\n",
    "            The scaling factors from the forward pass\n",
    "\n",
    "        Returns\n",
    "        -------\n",
    "        xi : ndarray of shape (T-1, n, n)\n",
    "            The xi probability array\n",
    "        gamma : ndarray of shape (T, n)\n",
    "            The gamma probability array\n",
    "        \"\"\"\n",
    "        T = len(z)\n",
    "        n = len(self.pi)\n",
    "        eps = np.empty((T-1, n, n))\n",
    "        gamma = np.empty((T,n))\n",
    "        \n",
    "        # Epsilon\n",
    "        for t in range(T-1):\n",
    "            eps[t] = [[alpha[t,i]*self.A[j,i]*self.B[z[t+1],j]*beta[t+1,j] for j in range(n)] for i in range(n)]\n",
    "        \n",
    "        # Gamma\n",
    "        for t in range(T):\n",
    "            gamma[t] = np.multiply(alpha[t], beta[t])/c[t]\n",
    "        \n",
    "        return eps, gamma\n",
    "            \n",
    "    \n",
    "    # Problem 5\n",
    "    def _estimate(self, z, xi, gamma):\n",
    "        \"\"\"\n",
    "        Estimate better parameter values and update self.pi, self.A, and\n",
    "        self.B in place.\n",
    "\n",
    "        Parameters\n",
    "        ----------\n",
    "        z : ndarray of shape (T,)\n",
    "            The observation sequence\n",
    "        xi : ndarray of shape (T-1, n, n)\n",
    "            The xi probability array\n",
    "        gamma : ndarray of shape (T, n)\n",
    "            The gamma probability array\n",
    "        \"\"\"\n",
    "        \n",
    "        T = len(z)\n",
    "        n = len(self.pi)\n",
    "        \n",
    "        # Update Parameters\n",
    "        self.pi = gamma[0]\n",
    "        self.A = np.sum(xi,axis=0).T/np.sum(gamma[:-1,:],axis=0)\n",
    "        \n",
    "        B = np.zeros_like(self.B)\n",
    "        for i in range(self.B.shape[0]):\n",
    "            B[i] = np.sum([gamma[t]*int(z[t]==i) for t in range(T)], axis=0)\n",
    "            \n",
    "        self.B = B / np.sum(gamma, axis=0)\n",
    "        \n",
    "        return self\n",
    "\n",
    "    \n",
    "    # Problem 6\n",
    "    def fit(self, z, pi, A, B, max_iter=100, tol=1e-5):\n",
    "        \"\"\"\n",
    "        Fit the model parameters to a given observation sequence.\n",
    "\n",
    "        Parameters\n",
    "        ----------\n",
    "        z : ndarray of shape (T,)\n",
    "            Observation sequence on which to train the model.\n",
    "        pi : Stochastic ndarray of shape (n,)\n",
    "            Initial state distribution\n",
    "        A : Stochastic ndarray of shape (n, n)\n",
    "            Initial state transition matrix\n",
    "        B : Stochastic ndarray of shape (m, n)\n",
    "            Initial state observation matrix\n",
    "        max_iter : int\n",
    "            The maximum number of iterations to take\n",
    "        tol : float\n",
    "            The convergence threshold for change in log-probability\n",
    "        \"\"\"\n",
    "        # initialize self.pi, self.A, self.B\n",
    "        self.pi = pi\n",
    "        self.A = A\n",
    "        self.B = B\n",
    "        \n",
    "        # Initial log prob\n",
    "        alpha, c = self._forward(z)\n",
    "        old_prob = -np.log(c).sum()\n",
    "        \n",
    "        # run the iteration\n",
    "        for i in range(max_iter):\n",
    "            alpha, c = self._forward(z)\n",
    "            beta = self._backward(z, c)\n",
    "            xi, gamma = self._xi(z, alpha, beta, c)\n",
    "            self._estimate(z, xi, gamma)\n",
    "            alpha, c = self._forward(z)\n",
    "            new_prob = -np.log(c).sum()\n",
    "            \n",
    "            # Check Convergence\n",
    "            if abs(new_prob - old_prob) < tol:\n",
    "                break\n",
    "            else:\n",
    "                old_prob = new_prob\n",
    "                continue\n",
    "            \n",
    "        return self"
   ]
  },
  {
   "cell_type": "code",
   "execution_count": 68,
   "metadata": {},
   "outputs": [
    {
     "name": "stdout",
     "output_type": "stream",
     "text": [
      "-4.642913590898749\n"
     ]
    }
   ],
   "source": [
    "pi = np.array([.6,.4])\n",
    "A = np.array([[.7,.4],[.3,.6]])\n",
    "B = np.array([[.1,.7],[.4,.2],[.5,.1]])\n",
    "z = np.array([0,1,0,2])\n",
    "\n",
    "# Verify\n",
    "h = HMM()\n",
    "h.pi = pi\n",
    "h.A = A\n",
    "h.B = B\n",
    "alpha, c = h._forward(z)\n",
    "print(-np.log(c).sum())"
   ]
  },
  {
   "cell_type": "code",
   "execution_count": 69,
   "metadata": {},
   "outputs": [
    {
     "name": "stdout",
     "output_type": "stream",
     "text": [
      "[[3.1361635  2.89939354]\n",
      " [2.86699344 4.39229044]\n",
      " [3.898812   2.66760821]\n",
      " [3.56816483 3.56816483]]\n"
     ]
    }
   ],
   "source": [
    "beta = h._backward(z, c)\n",
    "print(beta)"
   ]
  },
  {
   "cell_type": "code",
   "execution_count": 70,
   "metadata": {},
   "outputs": [
    {
     "name": "stdout",
     "output_type": "stream",
     "text": [
      "[[[0.14166321 0.0465066 ]\n",
      "  [0.37776855 0.43406164]]\n",
      "\n",
      " [[0.17015868 0.34927307]\n",
      "  [0.05871895 0.4218493 ]]\n",
      "\n",
      " [[0.21080834 0.01806929]\n",
      "  [0.59317106 0.17795132]]]\n",
      "[[0.18816981 0.81183019]\n",
      " [0.51943175 0.48056825]\n",
      " [0.22887763 0.77112237]\n",
      " [0.8039794  0.1960206 ]]\n"
     ]
    }
   ],
   "source": [
    "xi, gamma = h._xi(z, alpha, beta, c)\n",
    "print(xi)\n",
    "print(gamma)"
   ]
  },
  {
   "cell_type": "code",
   "execution_count": 71,
   "metadata": {},
   "outputs": [
    {
     "name": "stdout",
     "output_type": "stream",
     "text": [
      "[0.18816981 0.81183019]\n",
      "[[0.55807991 0.49898142]\n",
      " [0.44192009 0.50101858]]\n",
      "[[0.23961928 0.70056364]\n",
      " [0.29844534 0.21268397]\n",
      " [0.46193538 0.08675238]]\n"
     ]
    }
   ],
   "source": [
    "h._estimate(z,xi,gamma)\n",
    "print(h.pi)\n",
    "print(h.A)\n",
    "print(h.B)"
   ]
  },
  {
   "cell_type": "code",
   "execution_count": 3,
   "metadata": {},
   "outputs": [],
   "source": [
    "def vec_translate(a, my_dict):\n",
    "    # translate numpy array from symbols to state numbers or vice versa\n",
    "    return np.vectorize(my_dict.__getitem__)(a)\n",
    "\n",
    "def prep_data(filename):\n",
    "    # Get the data as a single string\n",
    "    with codecs.open(filename, encoding='utf-8') as f:\n",
    "        data=f.read().lower()  # and convert to all lower case\n",
    "\n",
    "    # remove punctuation and newlines\n",
    "    remove_punct_map = {ord(char): \n",
    "                        None for char in string.punctuation+\"\\n\\r\"}\n",
    "    data = data.translate(remove_punct_map)\n",
    "\n",
    "    # make a list of the symbols in the data\n",
    "    symbols = sorted(list(set(data)))\n",
    "\n",
    "    # convert the data to a NumPy array of symbols\n",
    "    a = np.array(list(data))\n",
    "\n",
    "    # make a conversion dictionary from symbols to state numbers\n",
    "    symbols_to_obsstates = {x:i for i,x in enumerate(symbols)}\n",
    "\n",
    "    # convert the symbols in a to state numbers\n",
    "    obs_sequence = vec_translate(a,symbols_to_obsstates)\n",
    "\n",
    "    return symbols, obs_sequence"
   ]
  },
  {
   "cell_type": "markdown",
   "metadata": {},
   "source": [
    "## Problem 7\n",
    "\n",
    "Train a HMM on `declaration.txt`. Use `N=2` states and `M=len(set(obs))=27` observation values ($26$ lower case characters and $1$ whitespace character), and run for $150$ iterations with the deffault value for `tol`.\n",
    "\n",
    "Once the learning algorithm converges, analyze the state observation matrix $B$. Note which rows correspond to the largest and smallest probability values in each column of $B$, and check the corresponding characters. The HMM should have detected a vowel state and a consonant state."
   ]
  },
  {
   "cell_type": "code",
   "execution_count": null,
   "metadata": {},
   "outputs": [],
   "source": [
    "symbols, obs = prep_data('declaration.txt')\n",
    "M = len(set(obs))\n",
    "N = 2\n",
    "pi = np.random.dirichlet(np.ones(N))\n",
    "A = np.random.dirichlet(np.ones(N), size=N).T\n",
    "B = np.random.dirichlet(np.ones(M), size=N).T\n",
    "\n",
    "#fit the hmm\n",
    "hmm = HMM()\n",
    "hmm.fit(obs, pi, A, B, max_iter=150)"
   ]
  },
  {
   "cell_type": "code",
   "execution_count": 75,
   "metadata": {},
   "outputs": [
    {
     "name": "stdout",
     "output_type": "stream",
     "text": [
      " , 0.3233, 0.0180\n",
      "a, 0.1265, 0.0000\n",
      "b, 0.0000, 0.0234\n",
      "c, 0.0000, 0.0454\n",
      "d, 0.0000, 0.0621\n",
      "e, 0.2278, 0.0000\n",
      "f, 0.0000, 0.0444\n",
      "g, 0.0000, 0.0321\n",
      "h, 0.0048, 0.0816\n",
      "i, 0.1191, 0.0000\n",
      "j, 0.0000, 0.0039\n",
      "k, 0.0004, 0.0030\n",
      "l, 0.0000, 0.0562\n",
      "m, 0.0000, 0.0355\n",
      "n, 0.0000, 0.1191\n",
      "o, 0.1356, 0.0004\n",
      "p, 0.0000, 0.0340\n",
      "q, 0.0000, 0.0015\n",
      "r, 0.0000, 0.1048\n",
      "s, 0.0000, 0.1179\n",
      "t, 0.0000, 0.1578\n",
      "u, 0.0554, 0.0000\n",
      "v, 0.0000, 0.0182\n",
      "w, 0.0000, 0.0239\n",
      "x, 0.0000, 0.0022\n",
      "y, 0.0071, 0.0134\n",
      "z, 0.0000, 0.0010\n",
      "\n",
      " The first column is the vowel state, the second column is the constant state\n"
     ]
    }
   ],
   "source": [
    "for i in range(len(hmm.B)):\n",
    "    print(u\"{0}, {1:0.4f}, {2:0.4f}\"\n",
    "                .format(symbols[i], hmm.B[i,0], hmm.B[i,1]))\n",
    "print('\\n', 'The first column is the vowel state, the second column is the constant state')"
   ]
  },
  {
   "cell_type": "markdown",
   "metadata": {},
   "source": [
    "## Problem 8\n",
    "\n",
    "Repeat the previous calculation with $3$ hidden states and again with $4$ hidden states. Interpret/explain your results."
   ]
  },
  {
   "cell_type": "code",
   "execution_count": 4,
   "metadata": {},
   "outputs": [
    {
     "data": {
      "text/plain": [
       "<__main__.HMM at 0x25a64fd4ee0>"
      ]
     },
     "execution_count": 4,
     "metadata": {},
     "output_type": "execute_result"
    }
   ],
   "source": [
    "# 3 hidden states\n",
    "symbols, obs = prep_data('declaration.txt')\n",
    "M = len(set(obs))\n",
    "N = 3\n",
    "pi = np.random.dirichlet(np.ones(N))\n",
    "A = np.random.dirichlet(np.ones(N), size=N).T\n",
    "B = np.random.dirichlet(np.ones(M), size=N).T\n",
    "\n",
    "# fit the hmm\n",
    "hmm = HMM()\n",
    "hmm.fit(obs, pi, A, B, max_iter=150)"
   ]
  },
  {
   "cell_type": "code",
   "execution_count": 6,
   "metadata": {},
   "outputs": [
    {
     "name": "stdout",
     "output_type": "stream",
     "text": [
      " , 0.1258, 0.0307, 0.3104\n",
      "a, 0.0695, 0.0000, 0.1101\n",
      "b, 0.0278, 0.0146, 0.0000\n",
      "c, 0.0375, 0.0399, 0.0000\n",
      "d, 0.0075, 0.0847, 0.0009\n",
      "e, 0.0000, 0.0000, 0.2780\n",
      "f, 0.0148, 0.0545, 0.0000\n",
      "g, 0.0080, 0.0413, 0.0000\n",
      "h, 0.0000, 0.1168, 0.0083\n",
      "i, 0.0320, 0.0000, 0.1249\n",
      "j, 0.0000, 0.0058, 0.0000\n",
      "k, 0.0006, 0.0040, 0.0006\n",
      "l, 0.0312, 0.0601, 0.0001\n",
      "m, 0.0159, 0.0407, 0.0000\n",
      "n, 0.1811, 0.0457, 0.0000\n",
      "o, 0.0831, 0.0000, 0.1131\n",
      "p, 0.0295, 0.0289, 0.0000\n",
      "q, 0.0000, 0.0022, 0.0000\n",
      "r, 0.0596, 0.1112, 0.0000\n",
      "s, 0.0792, 0.1125, 0.0035\n",
      "t, 0.1352, 0.1351, 0.0000\n",
      "u, 0.0410, 0.0000, 0.0415\n",
      "v, 0.0000, 0.0267, 0.0000\n",
      "w, 0.0187, 0.0217, 0.0000\n",
      "x, 0.0021, 0.0018, 0.0000\n",
      "y, 0.0000, 0.0196, 0.0087\n",
      "z, 0.0000, 0.0014, 0.0000\n"
     ]
    }
   ],
   "source": [
    "for i in range(len(hmm.B)):\n",
    "    print(u\"{0}, {1:0.4f}, {2:0.4f}, {3:0.4f}\"\n",
    "                .format(symbols[i], hmm.B[i,0], hmm.B[i,1], hmm.B[i,2]))"
   ]
  },
  {
   "cell_type": "markdown",
   "metadata": {},
   "source": [
    "First state is hard consonants\n",
    "\n",
    "Second State is soft consonants\n",
    "\n",
    "Third State is vowels"
   ]
  },
  {
   "cell_type": "code",
   "execution_count": 78,
   "metadata": {},
   "outputs": [
    {
     "data": {
      "text/plain": [
       "<__main__.HMM at 0x1cf351344c0>"
      ]
     },
     "execution_count": 78,
     "metadata": {},
     "output_type": "execute_result"
    }
   ],
   "source": [
    "# 4 hidden states\n",
    "N = 4\n",
    "pi = np.random.dirichlet(np.ones(N))\n",
    "A = np.random.dirichlet(np.ones(N), size=N).T\n",
    "B = np.random.dirichlet(np.ones(M), size=N).T\n",
    "\n",
    "# fit the hmm\n",
    "hmm = HMM()\n",
    "hmm.fit(obs, pi, A, B, max_iter=150, tol=1e-5)"
   ]
  },
  {
   "cell_type": "code",
   "execution_count": 79,
   "metadata": {},
   "outputs": [
    {
     "name": "stdout",
     "output_type": "stream",
     "text": [
      " , 0.5546, 0.0000, 0.0000, 0.0000\n",
      "a, 0.0517, 0.0254, 0.0027, 0.1322\n",
      "b, 0.0000, 0.0000, 0.0000, 0.0378\n",
      "c, 0.0000, 0.0000, 0.0031, 0.0703\n",
      "d, 0.0000, 0.0000, 0.1106, 0.0000\n",
      "e, 0.0990, 0.0071, 0.1694, 0.0944\n",
      "f, 0.0000, 0.2554, 0.0001, 0.0000\n",
      "g, 0.0000, 0.0000, 0.0482, 0.0080\n",
      "h, 0.0954, 0.0000, 0.0411, 0.0131\n",
      "i, 0.1067, 0.0000, 0.0000, 0.0797\n",
      "j, 0.0000, 0.0000, 0.0070, 0.0000\n",
      "k, 0.0000, 0.0000, 0.0033, 0.0026\n",
      "l, 0.0002, 0.0000, 0.0332, 0.0604\n",
      "m, 0.0000, 0.0183, 0.0201, 0.0339\n",
      "n, 0.0000, 0.0042, 0.0600, 0.1365\n",
      "o, 0.0188, 0.3382, 0.0000, 0.0919\n",
      "p, 0.0000, 0.0000, 0.0000, 0.0549\n",
      "q, 0.0000, 0.0000, 0.0026, 0.0000\n",
      "r, 0.0164, 0.1447, 0.0582, 0.0606\n",
      "s, 0.0019, 0.0000, 0.1697, 0.0346\n",
      "t, 0.0000, 0.2031, 0.2182, 0.0000\n",
      "u, 0.0507, 0.0000, 0.0000, 0.0362\n",
      "v, 0.0000, 0.0000, 0.0000, 0.0294\n",
      "w, 0.0000, 0.0000, 0.0194, 0.0210\n",
      "x, 0.0032, 0.0000, 0.0000, 0.0006\n",
      "y, 0.0013, 0.0035, 0.0331, 0.0000\n",
      "z, 0.0000, 0.0000, 0.0000, 0.0016\n",
      "\n",
      " The first column is the consonant state, the second column is the vowel state, the third column is , and the fourth column is\n"
     ]
    }
   ],
   "source": [
    "for i in range(len(hmm.B)):\n",
    "    print(u\"{0}, {1:0.4f}, {2:0.4f}, {3:0.4f}, {4:0.4f}\"\n",
    "                .format(symbols[i], hmm.B[i,0], hmm.B[i,1], hmm.B[i,2], hmm.B[i,3]))\n",
    "print('\\n', 'The first column is the consonant state, the second column is the vowel state, the third column is'\n",
    "     ' , and the fourth column is')"
   ]
  },
  {
   "cell_type": "markdown",
   "metadata": {},
   "source": [
    "*Edit to the above because I don't want to rerun it.\n",
    "\n",
    "The first state is the space\n",
    "\n",
    "The second state is soft consonants\n",
    "\n",
    "The third state is hard consonants\n",
    "\n",
    "The fourth state is the vowels"
   ]
  },
  {
   "cell_type": "markdown",
   "metadata": {},
   "source": [
    "## Problem 9\n",
    "\n",
    "Repeat the same calculation with `WarAndPeace.txt` for $2$ and $3$ hidden states. Interpret/explain your results. Which Cyrillic characters appear to be vowels?"
   ]
  },
  {
   "cell_type": "code",
   "execution_count": 80,
   "metadata": {},
   "outputs": [
    {
     "data": {
      "text/plain": [
       "<__main__.HMM at 0x1cf6d4e5f70>"
      ]
     },
     "execution_count": 80,
     "metadata": {},
     "output_type": "execute_result"
    }
   ],
   "source": [
    "# 2 hidden states\n",
    "symbols, obs = prep_data('WarAndPeace.txt')\n",
    "M = len(set(obs))\n",
    "N = 2\n",
    "pi = np.random.dirichlet(np.ones(N))\n",
    "A = np.random.dirichlet(np.ones(N), size=N).T\n",
    "B = np.random.dirichlet(np.ones(M), size=N).T\n",
    "\n",
    "# fit the hmm\n",
    "hmm = HMM()\n",
    "hmm.fit(obs, pi, A, B, max_iter=150)"
   ]
  },
  {
   "cell_type": "code",
   "execution_count": 87,
   "metadata": {},
   "outputs": [
    {
     "name": "stdout",
     "output_type": "stream",
     "text": [
      " , 0.1667, 0.1623\n",
      "а, 0.1813, 0.0043\n",
      "б, 0.0069, 0.0199\n",
      "в, 0.0364, 0.0411\n",
      "г, 0.0043, 0.0258\n",
      "д, 0.0120, 0.0298\n",
      "е, 0.0008, 0.1076\n",
      "ж, 0.0062, 0.0097\n",
      "з, 0.0407, 0.0000\n",
      "и, 0.0771, 0.0395\n",
      "й, 0.0004, 0.0141\n",
      "к, 0.0696, 0.0069\n",
      "л, 0.0701, 0.0272\n",
      "м, 0.0157, 0.0272\n",
      "н, 0.0791, 0.0462\n",
      "о, 0.0049, 0.1504\n",
      "п, 0.0025, 0.0357\n",
      "р, 0.0183, 0.0463\n",
      "с, 0.0487, 0.0380\n",
      "т, 0.0182, 0.0638\n",
      "у, 0.0220, 0.0245\n",
      "ф, 0.0033, 0.0000\n",
      "х, 0.0020, 0.0094\n",
      "ц, 0.0043, 0.0022\n",
      "ч, 0.0058, 0.0150\n",
      "ш, 0.0078, 0.0058\n",
      "щ, 0.0017, 0.0035\n",
      "ъ, 0.0000, 0.0005\n",
      "ы, 0.0121, 0.0168\n",
      "ь, 0.0214, 0.0157\n",
      "э, 0.0000, 0.0042\n",
      "ю, 0.0072, 0.0048\n",
      "я, 0.0528, 0.0018\n",
      "ё, 0.0000, 0.0001\n",
      "\n",
      " The first column is more the consonant state,       \n",
      "the second column is more the vowel state, \n",
      "but there is overlap\n"
     ]
    }
   ],
   "source": [
    "for i in range(len(hmm.B)):\n",
    "    print(u\"{0}, {1:0.4f}, {2:0.4f}\"\n",
    "                .format(symbols[i], hmm.B[i,0], hmm.B[i,1]))\n",
    "print('\\n', 'The first column is more the consonant state, \\\n",
    "      \\nthe second column is more the vowel state, \\nbut there is overlap')\n"
   ]
  },
  {
   "cell_type": "code",
   "execution_count": 88,
   "metadata": {},
   "outputs": [
    {
     "data": {
      "text/plain": [
       "<__main__.HMM at 0x1cf6d56eaf0>"
      ]
     },
     "execution_count": 88,
     "metadata": {},
     "output_type": "execute_result"
    }
   ],
   "source": [
    "# 3 hidden states\n",
    "M = len(set(obs))\n",
    "N = 3\n",
    "pi = np.random.dirichlet(np.ones(N))\n",
    "A = np.random.dirichlet(np.ones(N), size=N).T\n",
    "B = np.random.dirichlet(np.ones(M), size=N).T\n",
    "\n",
    "# fit the hmm\n",
    "hmm = HMM()\n",
    "hmm.fit(obs, pi, A, B, max_iter=150)"
   ]
  },
  {
   "cell_type": "code",
   "execution_count": 92,
   "metadata": {},
   "outputs": [
    {
     "name": "stdout",
     "output_type": "stream",
     "text": [
      " , 0.0432, 0.0978, 0.4208\n",
      "а, 0.1965, 0.0000, 0.0002\n",
      "б, 0.0000, 0.0327, 0.0102\n",
      "в, 0.0000, 0.0716, 0.0464\n",
      "г, 0.0000, 0.0372, 0.0140\n",
      "д, 0.0010, 0.0453, 0.0214\n",
      "е, 0.1534, 0.0000, 0.0490\n",
      "ж, 0.0000, 0.0188, 0.0049\n",
      "з, 0.0000, 0.0272, 0.0185\n",
      "и, 0.1425, 0.0000, 0.0097\n",
      "й, 0.0000, 0.0000, 0.0339\n",
      "к, 0.0000, 0.0581, 0.0314\n",
      "л, 0.0000, 0.0920, 0.0319\n",
      "м, 0.0000, 0.0432, 0.0248\n",
      "н, 0.0000, 0.1306, 0.0345\n",
      "о, 0.2669, 0.0000, 0.0028\n",
      "п, 0.0000, 0.0465, 0.0216\n",
      "р, 0.0000, 0.0865, 0.0121\n",
      "с, 0.0004, 0.0434, 0.0961\n",
      "т, 0.0000, 0.1043, 0.0281\n",
      "у, 0.0645, 0.0000, 0.0019\n",
      "ф, 0.0000, 0.0021, 0.0016\n",
      "х, 0.0000, 0.0122, 0.0077\n",
      "ц, 0.0000, 0.0076, 0.0004\n",
      "ч, 0.0000, 0.0202, 0.0148\n",
      "ш, 0.0000, 0.0147, 0.0037\n",
      "щ, 0.0000, 0.0075, 0.0000\n",
      "ъ, 0.0006, 0.0002, 0.0000\n",
      "ы, 0.0420, 0.0000, 0.0000\n",
      "ь, 0.0499, 0.0000, 0.0000\n",
      "э, 0.0000, 0.0000, 0.0099\n",
      "ю, 0.0029, 0.0000, 0.0176\n",
      "я, 0.0359, 0.0000, 0.0300\n",
      "ё, 0.0001, 0.0000, 0.0000\n"
     ]
    }
   ],
   "source": [
    "for i in range(len(hmm.B)):\n",
    "    print(u\"{0}, {1:0.4f}, {2:0.4f}, {3:0.4f}\"\n",
    "                .format(symbols[i], hmm.B[i,0], hmm.B[i,1], hmm.B[i,2]))"
   ]
  },
  {
   "cell_type": "markdown",
   "metadata": {},
   "source": [
    "The first column is the vowel state, the second column is the hard consonants state, \n",
    "and the third column is the soft consonants state')"
   ]
  },
  {
   "cell_type": "code",
   "execution_count": null,
   "metadata": {},
   "outputs": [],
   "source": []
  }
 ],
 "metadata": {
  "kernelspec": {
   "display_name": "Python 3",
   "language": "python",
   "name": "python3"
  },
  "language_info": {
   "codemirror_mode": {
    "name": "ipython",
    "version": 3
   },
   "file_extension": ".py",
   "mimetype": "text/x-python",
   "name": "python",
   "nbconvert_exporter": "python",
   "pygments_lexer": "ipython3",
   "version": "3.8.8"
  }
 },
 "nbformat": 4,
 "nbformat_minor": 2
}
