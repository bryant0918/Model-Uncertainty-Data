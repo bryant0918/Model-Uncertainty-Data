{
 "cells": [
  {
   "cell_type": "markdown",
   "metadata": {
    "colab_type": "text",
    "id": "bW431NWpWQvg"
   },
   "source": [
    "# Pandas 3\n",
    "### Bryant McArthur\n",
    "### Volume 3\n",
    "### September 13, 2022"
   ]
  },
  {
   "cell_type": "code",
   "execution_count": 2,
   "metadata": {
    "colab": {},
    "colab_type": "code",
    "id": "SUIQR8wua0n-"
   },
   "outputs": [],
   "source": [
    "import pandas as pd\n",
    "import numpy as np\n",
    "import matplotlib.pyplot as plt"
   ]
  },
  {
   "cell_type": "markdown",
   "metadata": {
    "colab_type": "text",
    "id": "WtvM7fKitmn0"
   },
   "source": [
    "# Problem 1"
   ]
  },
  {
   "cell_type": "code",
   "execution_count": 27,
   "metadata": {
    "colab": {},
    "colab_type": "code",
    "id": "UnY5vviOBe8s"
   },
   "outputs": [
    {
     "data": {
      "text/plain": [
       "(array([212.        ,  17.13915094,   3.41804873,   6.7       ,\n",
       "         15.1       ,  17.25      ,  19.325     ,  28.8       ]),\n",
       " array([565.        ,  29.33097345,  17.85139147,   1.        ,\n",
       "         17.        ,  25.        ,  36.        ,  96.        ]),\n",
       " array([565.        ,  56.95752212,  19.58836048,   9.        ,\n",
       "         42.        ,  55.        ,  70.        , 100.        ]))"
      ]
     },
     "execution_count": 27,
     "metadata": {},
     "output_type": "execute_result"
    }
   ],
   "source": [
    "def prob1():\n",
    "    \"\"\"\n",
    "    Use groupby objects to determine information about private\n",
    "    and public universities.\n",
    "    Specifically examine the columns 'S.F.Ratio', 'Top10perc',\n",
    "    and 'Top25perc'.\n",
    "    For each column return the values of the describe function\n",
    "    for the type of university with the higher mean.\n",
    "    \n",
    "    Return:\n",
    "        ans_1 (ndarray): describe array of universities with \n",
    "                         higher S.F.Ratio\n",
    "        ans_2 (ndarray): describe array of universities with\n",
    "                         more students from Top10perc\n",
    "        ans_3 (ndarray): describe array of universities with\n",
    "                         more students from Top25perc\n",
    "    \"\"\"\n",
    "    \n",
    "    df = pd.read_csv(\"college.csv\")\n",
    "    \n",
    "    # student facult ratio\n",
    "    stud_fac = df.groupby([\"Private\"])[\"S.F.Ratio\"].describe()\n",
    "    stud_fac_array = stud_fac.loc[stud_fac[\"mean\"].idxmax()].values\n",
    "    \n",
    "    # Top 10 percent\n",
    "    ten_per = df.groupby(\"Private\")[\"Top10perc\"].describe()\n",
    "    ten_per_array = ten_per.loc[ten_per[\"mean\"].idxmax()].values\n",
    "    \n",
    "    # Top 25 Percent\n",
    "    twenty5 = df.groupby(\"Private\")[\"Top25perc\"].describe()\n",
    "    twenty5_array = twenty5.loc[twenty5[\"mean\"].idxmax()].values\n",
    "    \n",
    "    return (stud_fac_array, ten_per_array, twenty5_array)\n",
    "    \n",
    "prob1()"
   ]
  },
  {
   "cell_type": "markdown",
   "metadata": {
    "colab_type": "text",
    "id": "kkl-OwD3tosX"
   },
   "source": [
    "# Problem 2"
   ]
  },
  {
   "cell_type": "code",
   "execution_count": 39,
   "metadata": {
    "colab": {},
    "colab_type": "code",
    "id": "21bBA9dzCNxc"
   },
   "outputs": [
    {
     "data": {
      "image/png": "[encoded data removed]",
      "text/plain": [
       "<Figure size 432x288 with 1 Axes>"
      ]
     },
     "metadata": {
      "needs_background": "light"
     },
     "output_type": "display_data"
    },
    {
     "data": {
      "image/png": "[encoded data removed]",
      "text/plain": [
       "<Figure size 432x288 with 1 Axes>"
      ]
     },
     "metadata": {
      "needs_background": "light"
     },
     "output_type": "display_data"
    }
   ],
   "source": [
    "def prob2():\n",
    "    \"\"\"\n",
    "    Use groupby visualizations to compare the following\n",
    "    in private and public universities:\n",
    "        1. Number of applicants, accept applicants, and\n",
    "           enrolled applicants\n",
    "        2. Range of price for room and board\n",
    "    \"\"\"\n",
    "    df = pd.read_csv(\"college.csv\")\n",
    "    \n",
    "    # Question 1\n",
    "    Private = df.groupby(\"Private\")\n",
    "    Private[[\"Apps\", \"Accept\", \"Enroll\"]].mean().plot(kind=\"barh\", \n",
    "                                                      title=\"Student Demographics for Private and Public Universities\")\n",
    "    plt.xlabel(\"Number of Students\")\n",
    "    \n",
    "    # Question 2\n",
    "    Private[[\"Room.Board\"]].mean().plot(kind=\"barh\", xerr=Private.std(), \n",
    "                                        title=\"Room and Board for Private and Public Universities\")\n",
    "    plt.xlabel(\"Dollars\")\n",
    "    \n",
    "prob2()"
   ]
  },
  {
   "cell_type": "markdown",
   "metadata": {
    "colab_type": "text",
    "id": "XQJj5O7btqQW"
   },
   "source": [
    "# Problem 3"
   ]
  },
  {
   "cell_type": "code",
   "execution_count": 52,
   "metadata": {
    "colab": {},
    "colab_type": "code",
    "id": "Qs3BS0NKRgo1"
   },
   "outputs": [
    {
     "data": {
      "text/plain": [
       "((1, 1), (3, 2), (3, 1))"
      ]
     },
     "execution_count": 52,
     "metadata": {},
     "output_type": "execute_result"
    }
   ],
   "source": [
    "def prob3():\n",
    "    \"\"\"\n",
    "    Use Ohio_1999.csv and pivot tables to answer the\n",
    "    following questions\n",
    "        1. Which race/sex combination makes the most money in total?\n",
    "        2. Which race/sex combination worked the least amount of \n",
    "            cumulative hours?\n",
    "        3. What race/sex combination worked the most hours per week per person?\n",
    "    \n",
    "    Returns:\n",
    "        ans_1 (tuple): tuple with race and sex code, respectively\n",
    "        ans_2 (tuple): tuple with race and sex code, respectively\n",
    "        ans_3 (tuple): tuple with race and sex code, respectively\n",
    "    \"\"\"\n",
    "    df = pd.read_csv(\"Ohio_1999.csv\")\n",
    "    \n",
    "    # Race/Sex combo with highest Usual Weekly Earnings\n",
    "    highest_earnings = df.pivot_table(values=\"Usual Weekly Earnings\", index=[\"Race\", \"Sex\"], aggfunc=\"sum\").idxmax().values\n",
    "    \n",
    "    # Race/Sex combo with lowest cumulative Usual Hours Worked\n",
    "    lowest_worked = df.pivot_table(values=\"Usual Hours Worked\", index=[\"Race\", \"Sex\"], aggfunc=\"sum\").idxmin().values\n",
    "    \n",
    "    # Race/Sex combo with higheset average Usual Hours Worked\n",
    "    highest_worked = df.pivot_table(values=\"Usual Hours Worked\", index=[\"Race\", \"Sex\"], aggfunc=\"mean\").idxmax().values\n",
    "    \n",
    "    return tuple(highest_earnings)[0], tuple(lowest_worked)[0], tuple(highest_worked)[0]\n",
    "    \n",
    "prob3()"
   ]
  },
  {
   "cell_type": "markdown",
   "metadata": {
    "colab_type": "text",
    "id": "w0OmwW_VtsAp"
   },
   "source": [
    "# Problem 4"
   ]
  },
  {
   "cell_type": "code",
   "execution_count": 82,
   "metadata": {
    "colab": {},
    "colab_type": "code",
    "id": "in76s4x5iAX9"
   },
   "outputs": [
    {
     "data": {
      "text/plain": [
       "(Interval(38, 42, closed='right'),\n",
       " array([Interval(40.0, 46.0, closed='right')], dtype=object),\n",
       " array([(Interval(15.999, 29.0, closed='right'), Interval(0, 38, closed='right'))],\n",
       "       dtype=object))"
      ]
     },
     "execution_count": 82,
     "metadata": {},
     "output_type": "execute_result"
    }
   ],
   "source": [
    "def prob4():\n",
    "    \"\"\"\n",
    "    Use Ohio_1999.csv to answer the following questions:\n",
    "        1. What is the most common degree among workers?\n",
    "        2. Which age group works the most hours on average?\n",
    "        3. What age/degree combination has the smallest yearly\n",
    "           salary on average?\n",
    "    \n",
    "    Return:\n",
    "        ans_1 (Interval): degree interval\n",
    "        ans_2 (Interval): age interval\n",
    "        ans_3 (Interval, Interval): age interval and degree interval\n",
    "    \"\"\"\n",
    "    df = pd.read_csv(\"Ohio_1999.csv\")\n",
    "    \n",
    "    # Question 1\n",
    "    degree = pd.cut(df[\"Educational Attainment\"], [0,38,42,46])\n",
    "    ans_1 = degree.value_counts().idxmax()\n",
    "    \n",
    "    # Question 2\n",
    "    age = pd.qcut(df[\"Age\"], 6)\n",
    "    ans_2 = df.pivot_table(values=\"Usual Hours Worked\", index=[age], aggfunc=\"mean\").idxmax().values\n",
    "    \n",
    "    # Question 3\n",
    "    table = df.pivot_table(values=\"Yearly Salary\", index=[age, degree], aggfunc=\"mean\")\n",
    "    ans_3 = table.idxmin().values\n",
    "    \n",
    "    return ans_1, ans_2, ans_3\n",
    "    \n",
    "    \n",
    "prob4()"
   ]
  },
  {
   "cell_type": "markdown",
   "metadata": {
    "colab_type": "text",
    "id": "p_583lcgtuQv"
   },
   "source": [
    "# Problem 5"
   ]
  },
  {
   "cell_type": "code",
   "execution_count": 125,
   "metadata": {
    "colab": {},
    "colab_type": "code",
    "id": "I8vUMUB4fjHR"
   },
   "outputs": [
    {
     "name": "stderr",
     "output_type": "stream",
     "text": [
      "<ipython-input-125-72f94de3f934>:29: FutureWarning: Indexing with multiple keys (implicitly converted to a tuple of keys) will be deprecated, use a list instead.\n",
      "  df.groupby(\"Private\")[\"Expend\", \"perc.alumni\"].plot(kind=\"scatter\", x=\"perc.alumni\", y=\"Expend\")\n"
     ]
    },
    {
     "data": {
      "image/png": "[encoded data removed]",
      "text/plain": [
       "<Figure size 432x288 with 1 Axes>"
      ]
     },
     "metadata": {
      "needs_background": "light"
     },
     "output_type": "display_data"
    },
    {
     "data": {
      "image/png": "[encoded data removed]",
      "text/plain": [
       "<Figure size 432x288 with 1 Axes>"
      ]
     },
     "metadata": {
      "needs_background": "light"
     },
     "output_type": "display_data"
    },
    {
     "data": {
      "text/html": [
       "<div>\n",
       "<style scoped>\n",
       "    .dataframe tbody tr th:only-of-type {\n",
       "        vertical-align: middle;\n",
       "    }\n",
       "\n",
       "    .dataframe tbody tr th {\n",
       "        vertical-align: top;\n",
       "    }\n",
       "\n",
       "    .dataframe thead tr th {\n",
       "        text-align: left;\n",
       "    }\n",
       "\n",
       "    .dataframe thead tr:last-of-type th {\n",
       "        text-align: right;\n",
       "    }\n",
       "</style>\n",
       "<table border=\"1\" class=\"dataframe\">\n",
       "  <thead>\n",
       "    <tr>\n",
       "      <th></th>\n",
       "      <th></th>\n",
       "      <th colspan=\"8\" halign=\"left\">Apps</th>\n",
       "      <th colspan=\"2\" halign=\"left\">Accept</th>\n",
       "      <th>...</th>\n",
       "      <th colspan=\"2\" halign=\"left\">Expend</th>\n",
       "      <th colspan=\"8\" halign=\"left\">Grad.Rate</th>\n",
       "    </tr>\n",
       "    <tr>\n",
       "      <th></th>\n",
       "      <th></th>\n",
       "      <th>count</th>\n",
       "      <th>mean</th>\n",
       "      <th>std</th>\n",
       "      <th>min</th>\n",
       "      <th>25%</th>\n",
       "      <th>50%</th>\n",
       "      <th>75%</th>\n",
       "      <th>max</th>\n",
       "      <th>count</th>\n",
       "      <th>mean</th>\n",
       "      <th>...</th>\n",
       "      <th>75%</th>\n",
       "      <th>max</th>\n",
       "      <th>count</th>\n",
       "      <th>mean</th>\n",
       "      <th>std</th>\n",
       "      <th>min</th>\n",
       "      <th>25%</th>\n",
       "      <th>50%</th>\n",
       "      <th>75%</th>\n",
       "      <th>max</th>\n",
       "    </tr>\n",
       "    <tr>\n",
       "      <th>Private</th>\n",
       "      <th>Grad.Rate</th>\n",
       "      <th></th>\n",
       "      <th></th>\n",
       "      <th></th>\n",
       "      <th></th>\n",
       "      <th></th>\n",
       "      <th></th>\n",
       "      <th></th>\n",
       "      <th></th>\n",
       "      <th></th>\n",
       "      <th></th>\n",
       "      <th></th>\n",
       "      <th></th>\n",
       "      <th></th>\n",
       "      <th></th>\n",
       "      <th></th>\n",
       "      <th></th>\n",
       "      <th></th>\n",
       "      <th></th>\n",
       "      <th></th>\n",
       "      <th></th>\n",
       "      <th></th>\n",
       "    </tr>\n",
       "  </thead>\n",
       "  <tbody>\n",
       "    <tr>\n",
       "      <th rowspan=\"5\" valign=\"top\">No</th>\n",
       "      <th>(9.999, 51.0]</th>\n",
       "      <td>83.0</td>\n",
       "      <td>3189.867470</td>\n",
       "      <td>2455.076035</td>\n",
       "      <td>233.0</td>\n",
       "      <td>1428.00</td>\n",
       "      <td>2409.0</td>\n",
       "      <td>4601.50</td>\n",
       "      <td>12809.0</td>\n",
       "      <td>83.0</td>\n",
       "      <td>2315.349398</td>\n",
       "      <td>...</td>\n",
       "      <td>7415.50</td>\n",
       "      <td>16352.0</td>\n",
       "      <td>83.0</td>\n",
       "      <td>42.277108</td>\n",
       "      <td>7.595431</td>\n",
       "      <td>10.0</td>\n",
       "      <td>37.00</td>\n",
       "      <td>45.0</td>\n",
       "      <td>48.0</td>\n",
       "      <td>51.0</td>\n",
       "    </tr>\n",
       "    <tr>\n",
       "      <th>(51.0, 61.0]</th>\n",
       "      <td>56.0</td>\n",
       "      <td>5284.089286</td>\n",
       "      <td>3154.712384</td>\n",
       "      <td>818.0</td>\n",
       "      <td>3101.00</td>\n",
       "      <td>4670.0</td>\n",
       "      <td>7009.50</td>\n",
       "      <td>15039.0</td>\n",
       "      <td>56.0</td>\n",
       "      <td>3651.553571</td>\n",
       "      <td>...</td>\n",
       "      <td>7892.50</td>\n",
       "      <td>13889.0</td>\n",
       "      <td>56.0</td>\n",
       "      <td>55.946429</td>\n",
       "      <td>2.658911</td>\n",
       "      <td>52.0</td>\n",
       "      <td>53.00</td>\n",
       "      <td>56.0</td>\n",
       "      <td>58.0</td>\n",
       "      <td>61.0</td>\n",
       "    </tr>\n",
       "    <tr>\n",
       "      <th>(61.0, 70.0]</th>\n",
       "      <td>40.0</td>\n",
       "      <td>8048.875000</td>\n",
       "      <td>5426.000110</td>\n",
       "      <td>441.0</td>\n",
       "      <td>3254.50</td>\n",
       "      <td>7620.5</td>\n",
       "      <td>11526.25</td>\n",
       "      <td>21804.0</td>\n",
       "      <td>40.0</td>\n",
       "      <td>5791.925000</td>\n",
       "      <td>...</td>\n",
       "      <td>8999.25</td>\n",
       "      <td>16527.0</td>\n",
       "      <td>40.0</td>\n",
       "      <td>65.250000</td>\n",
       "      <td>2.328750</td>\n",
       "      <td>62.0</td>\n",
       "      <td>63.00</td>\n",
       "      <td>65.0</td>\n",
       "      <td>67.0</td>\n",
       "      <td>70.0</td>\n",
       "    </tr>\n",
       "    <tr>\n",
       "      <th>(70.0, 81.0]</th>\n",
       "      <td>23.0</td>\n",
       "      <td>10720.347826</td>\n",
       "      <td>9761.417877</td>\n",
       "      <td>572.0</td>\n",
       "      <td>5707.50</td>\n",
       "      <td>8065.0</td>\n",
       "      <td>14682.00</td>\n",
       "      <td>48094.0</td>\n",
       "      <td>23.0</td>\n",
       "      <td>6808.869565</td>\n",
       "      <td>...</td>\n",
       "      <td>10326.00</td>\n",
       "      <td>13919.0</td>\n",
       "      <td>23.0</td>\n",
       "      <td>75.347826</td>\n",
       "      <td>3.241895</td>\n",
       "      <td>71.0</td>\n",
       "      <td>72.50</td>\n",
       "      <td>75.0</td>\n",
       "      <td>77.5</td>\n",
       "      <td>81.0</td>\n",
       "    </tr>\n",
       "    <tr>\n",
       "      <th>(81.0, 118.0]</th>\n",
       "      <td>10.0</td>\n",
       "      <td>8555.200000</td>\n",
       "      <td>6545.939926</td>\n",
       "      <td>950.0</td>\n",
       "      <td>2269.50</td>\n",
       "      <td>8178.0</td>\n",
       "      <td>13752.75</td>\n",
       "      <td>19152.0</td>\n",
       "      <td>10.0</td>\n",
       "      <td>4594.700000</td>\n",
       "      <td>...</td>\n",
       "      <td>12581.25</td>\n",
       "      <td>15893.0</td>\n",
       "      <td>10.0</td>\n",
       "      <td>89.600000</td>\n",
       "      <td>6.328068</td>\n",
       "      <td>83.0</td>\n",
       "      <td>84.25</td>\n",
       "      <td>87.0</td>\n",
       "      <td>94.5</td>\n",
       "      <td>100.0</td>\n",
       "    </tr>\n",
       "    <tr>\n",
       "      <th rowspan=\"5\" valign=\"top\">Yes</th>\n",
       "      <th>(9.999, 51.0]</th>\n",
       "      <td>78.0</td>\n",
       "      <td>1138.615385</td>\n",
       "      <td>1701.665832</td>\n",
       "      <td>152.0</td>\n",
       "      <td>393.75</td>\n",
       "      <td>630.0</td>\n",
       "      <td>1085.25</td>\n",
       "      <td>11901.0</td>\n",
       "      <td>78.0</td>\n",
       "      <td>866.051282</td>\n",
       "      <td>...</td>\n",
       "      <td>9385.50</td>\n",
       "      <td>42926.0</td>\n",
       "      <td>78.0</td>\n",
       "      <td>41.230769</td>\n",
       "      <td>9.523618</td>\n",
       "      <td>15.0</td>\n",
       "      <td>36.25</td>\n",
       "      <td>45.0</td>\n",
       "      <td>48.0</td>\n",
       "      <td>51.0</td>\n",
       "    </tr>\n",
       "    <tr>\n",
       "      <th>(51.0, 61.0]</th>\n",
       "      <td>98.0</td>\n",
       "      <td>979.336735</td>\n",
       "      <td>1076.351033</td>\n",
       "      <td>81.0</td>\n",
       "      <td>494.75</td>\n",
       "      <td>685.0</td>\n",
       "      <td>1065.00</td>\n",
       "      <td>7428.0</td>\n",
       "      <td>98.0</td>\n",
       "      <td>767.010204</td>\n",
       "      <td>...</td>\n",
       "      <td>9483.00</td>\n",
       "      <td>19016.0</td>\n",
       "      <td>98.0</td>\n",
       "      <td>56.408163</td>\n",
       "      <td>3.031915</td>\n",
       "      <td>52.0</td>\n",
       "      <td>54.00</td>\n",
       "      <td>56.0</td>\n",
       "      <td>59.0</td>\n",
       "      <td>61.0</td>\n",
       "    </tr>\n",
       "    <tr>\n",
       "      <th>(61.0, 70.0]</th>\n",
       "      <td>122.0</td>\n",
       "      <td>1782.540984</td>\n",
       "      <td>1869.590816</td>\n",
       "      <td>167.0</td>\n",
       "      <td>768.75</td>\n",
       "      <td>1196.0</td>\n",
       "      <td>1946.00</td>\n",
       "      <td>12229.0</td>\n",
       "      <td>122.0</td>\n",
       "      <td>1319.442623</td>\n",
       "      <td>...</td>\n",
       "      <td>10475.25</td>\n",
       "      <td>19733.0</td>\n",
       "      <td>122.0</td>\n",
       "      <td>66.081967</td>\n",
       "      <td>2.437958</td>\n",
       "      <td>62.0</td>\n",
       "      <td>64.00</td>\n",
       "      <td>66.0</td>\n",
       "      <td>68.0</td>\n",
       "      <td>70.0</td>\n",
       "    </tr>\n",
       "    <tr>\n",
       "      <th>(70.0, 81.0]</th>\n",
       "      <td>129.0</td>\n",
       "      <td>1982.062016</td>\n",
       "      <td>2753.818916</td>\n",
       "      <td>141.0</td>\n",
       "      <td>672.00</td>\n",
       "      <td>1160.0</td>\n",
       "      <td>1910.00</td>\n",
       "      <td>20192.0</td>\n",
       "      <td>129.0</td>\n",
       "      <td>1453.705426</td>\n",
       "      <td>...</td>\n",
       "      <td>12082.00</td>\n",
       "      <td>26037.0</td>\n",
       "      <td>129.0</td>\n",
       "      <td>75.720930</td>\n",
       "      <td>3.149843</td>\n",
       "      <td>71.0</td>\n",
       "      <td>73.00</td>\n",
       "      <td>75.0</td>\n",
       "      <td>79.0</td>\n",
       "      <td>81.0</td>\n",
       "    </tr>\n",
       "    <tr>\n",
       "      <th>(81.0, 118.0]</th>\n",
       "      <td>138.0</td>\n",
       "      <td>3330.340580</td>\n",
       "      <td>2994.305782</td>\n",
       "      <td>245.0</td>\n",
       "      <td>1432.00</td>\n",
       "      <td>2423.0</td>\n",
       "      <td>3827.25</td>\n",
       "      <td>13865.0</td>\n",
       "      <td>138.0</td>\n",
       "      <td>1786.253623</td>\n",
       "      <td>...</td>\n",
       "      <td>16965.00</td>\n",
       "      <td>56233.0</td>\n",
       "      <td>138.0</td>\n",
       "      <td>89.927536</td>\n",
       "      <td>6.261501</td>\n",
       "      <td>82.0</td>\n",
       "      <td>84.00</td>\n",
       "      <td>90.0</td>\n",
       "      <td>95.0</td>\n",
       "      <td>118.0</td>\n",
       "    </tr>\n",
       "  </tbody>\n",
       "</table>\n",
       "<p>10 rows × 136 columns</p>\n",
       "</div>"
      ],
      "text/plain": [
       "                        Apps                                             \\\n",
       "                       count          mean          std    min      25%   \n",
       "Private Grad.Rate                                                         \n",
       "No      (9.999, 51.0]   83.0   3189.867470  2455.076035  233.0  1428.00   \n",
       "        (51.0, 61.0]    56.0   5284.089286  3154.712384  818.0  3101.00   \n",
       "        (61.0, 70.0]    40.0   8048.875000  5426.000110  441.0  3254.50   \n",
       "        (70.0, 81.0]    23.0  10720.347826  9761.417877  572.0  5707.50   \n",
       "        (81.0, 118.0]   10.0   8555.200000  6545.939926  950.0  2269.50   \n",
       "Yes     (9.999, 51.0]   78.0   1138.615385  1701.665832  152.0   393.75   \n",
       "        (51.0, 61.0]    98.0    979.336735  1076.351033   81.0   494.75   \n",
       "        (61.0, 70.0]   122.0   1782.540984  1869.590816  167.0   768.75   \n",
       "        (70.0, 81.0]   129.0   1982.062016  2753.818916  141.0   672.00   \n",
       "        (81.0, 118.0]  138.0   3330.340580  2994.305782  245.0  1432.00   \n",
       "\n",
       "                                                 Accept               ...  \\\n",
       "                          50%       75%      max  count         mean  ...   \n",
       "Private Grad.Rate                                                     ...   \n",
       "No      (9.999, 51.0]  2409.0   4601.50  12809.0   83.0  2315.349398  ...   \n",
       "        (51.0, 61.0]   4670.0   7009.50  15039.0   56.0  3651.553571  ...   \n",
       "        (61.0, 70.0]   7620.5  11526.25  21804.0   40.0  5791.925000  ...   \n",
       "        (70.0, 81.0]   8065.0  14682.00  48094.0   23.0  6808.869565  ...   \n",
       "        (81.0, 118.0]  8178.0  13752.75  19152.0   10.0  4594.700000  ...   \n",
       "Yes     (9.999, 51.0]   630.0   1085.25  11901.0   78.0   866.051282  ...   \n",
       "        (51.0, 61.0]    685.0   1065.00   7428.0   98.0   767.010204  ...   \n",
       "        (61.0, 70.0]   1196.0   1946.00  12229.0  122.0  1319.442623  ...   \n",
       "        (70.0, 81.0]   1160.0   1910.00  20192.0  129.0  1453.705426  ...   \n",
       "        (81.0, 118.0]  2423.0   3827.25  13865.0  138.0  1786.253623  ...   \n",
       "\n",
       "                         Expend          Grad.Rate                             \\\n",
       "                            75%      max     count       mean       std   min   \n",
       "Private Grad.Rate                                                               \n",
       "No      (9.999, 51.0]   7415.50  16352.0      83.0  42.277108  7.595431  10.0   \n",
       "        (51.0, 61.0]    7892.50  13889.0      56.0  55.946429  2.658911  52.0   \n",
       "        (61.0, 70.0]    8999.25  16527.0      40.0  65.250000  2.328750  62.0   \n",
       "        (70.0, 81.0]   10326.00  13919.0      23.0  75.347826  3.241895  71.0   \n",
       "        (81.0, 118.0]  12581.25  15893.0      10.0  89.600000  6.328068  83.0   \n",
       "Yes     (9.999, 51.0]   9385.50  42926.0      78.0  41.230769  9.523618  15.0   \n",
       "        (51.0, 61.0]    9483.00  19016.0      98.0  56.408163  3.031915  52.0   \n",
       "        (61.0, 70.0]   10475.25  19733.0     122.0  66.081967  2.437958  62.0   \n",
       "        (70.0, 81.0]   12082.00  26037.0     129.0  75.720930  3.149843  71.0   \n",
       "        (81.0, 118.0]  16965.00  56233.0     138.0  89.927536  6.261501  82.0   \n",
       "\n",
       "                                                 \n",
       "                         25%   50%   75%    max  \n",
       "Private Grad.Rate                                \n",
       "No      (9.999, 51.0]  37.00  45.0  48.0   51.0  \n",
       "        (51.0, 61.0]   53.00  56.0  58.0   61.0  \n",
       "        (61.0, 70.0]   63.00  65.0  67.0   70.0  \n",
       "        (70.0, 81.0]   72.50  75.0  77.5   81.0  \n",
       "        (81.0, 118.0]  84.25  87.0  94.5  100.0  \n",
       "Yes     (9.999, 51.0]  36.25  45.0  48.0   51.0  \n",
       "        (51.0, 61.0]   54.00  56.0  59.0   61.0  \n",
       "        (61.0, 70.0]   64.00  66.0  68.0   70.0  \n",
       "        (70.0, 81.0]   73.00  75.0  79.0   81.0  \n",
       "        (81.0, 118.0]  84.00  90.0  95.0  118.0  \n",
       "\n",
       "[10 rows x 136 columns]"
      ]
     },
     "metadata": {},
     "output_type": "display_data"
    },
    {
     "name": "stderr",
     "output_type": "stream",
     "text": [
      "<ipython-input-125-72f94de3f934>:44: FutureWarning: Indexing with multiple keys (implicitly converted to a tuple of keys) will be deprecated, use a list instead.\n",
      "  df.groupby(\"Private\")[\"Top10perc\", \"Accept\"].idxmin().plot(kind='barh')\n",
      "<ipython-input-125-72f94de3f934>:46: FutureWarning: Indexing with multiple keys (implicitly converted to a tuple of keys) will be deprecated, use a list instead.\n",
      "  df.groupby(\"Private\")[\"Top10perc\", \"Accept\"].idxmax().plot(kind='barh')\n"
     ]
    },
    {
     "data": {
      "text/plain": [
       "(False,\n",
       " True,\n",
       " True,\n",
       " 'Because Private Universities who are more selective will only higher quality students.')"
      ]
     },
     "execution_count": 125,
     "metadata": {},
     "output_type": "execute_result"
    },
    {
     "data": {
      "image/png": "[encoded data removed]",
      "text/plain": [
       "<Figure size 432x288 with 4 Axes>"
      ]
     },
     "metadata": {
      "needs_background": "light"
     },
     "output_type": "display_data"
    },
    {
     "data": {
      "image/png": "[encoded data removed]",
      "text/plain": [
       "<Figure size 432x288 with 1 Axes>"
      ]
     },
     "metadata": {
      "needs_background": "light"
     },
     "output_type": "display_data"
    },
    {
     "data": {
      "image/png": "[encoded data removed]",
      "text/plain": [
       "<Figure size 432x288 with 1 Axes>"
      ]
     },
     "metadata": {
      "needs_background": "light"
     },
     "output_type": "display_data"
    }
   ],
   "source": [
    "def prob5():\n",
    "    \"\"\"\n",
    "    Use pivot tables and groupby objects on the data in\n",
    "    College.csv to answer the following questions:\n",
    "        1. Is there a correlation between the percent of alumni\n",
    "           that donate and the amount the school spends per\n",
    "           student in both private and public universities?\n",
    "        2. Is the graduation rate partition with the greatest\n",
    "           number of schools the same for private and public\n",
    "           universities?\n",
    "        3. Is there an inverse correlation between acceptance\n",
    "           rate and having students from the top 10% of their\n",
    "           high school class?\n",
    "        4. Why is the average percentage of students admitted\n",
    "           from the top 10 percent of their high school class\n",
    "           so high in private universities with very low\n",
    "           acceptance rates? Use only the data to explain why; \n",
    "           do not extrapolate.\n",
    "    \n",
    "    Returns:\n",
    "        ans_1 (bool): answer to question 1\n",
    "        ans_2 (bool): answer to question 2\n",
    "        ans_3 (bool): answer to question 3\n",
    "        ans_4 (str): answer to question 4\n",
    "    \"\"\"\n",
    "    df = pd.read_csv(\"College.csv\")\n",
    "    \n",
    "    # Question 1\n",
    "    df.groupby(\"Private\")[\"Expend\", \"perc.alumni\"].plot(kind=\"scatter\", x=\"perc.alumni\", y=\"Expend\")\n",
    "    plt.show()\n",
    "    ans1 = False\n",
    "    \n",
    "    # Question 2\n",
    "    grad_rate = pd.qcut(df[\"Grad.Rate\"],5)\n",
    "    display(df.groupby([\"Private\", grad_rate]).describe())\n",
    "    ans2 = False\n",
    "    \n",
    "    # Question 3\n",
    "    pd.plotting.scatter_matrix(df[['Top10perc', 'Accept']])\n",
    "    ans3 = False\n",
    "    \n",
    "    # Question 4\n",
    "    df.groupby(\"Private\")[\"Top10perc\", \"Accept\"].idxmin().plot(kind='barh')\n",
    "    plt.title(\"Most selective universities\")\n",
    "    df.groupby(\"Private\")[\"Top10perc\", \"Accept\"].idxmax().plot(kind='barh')\n",
    "    plt.title(\"Larger Universities\")\n",
    "    ans4 = \"Because Private Universities who are more selective will only higher quality students.\"\n",
    "    \n",
    "    return ans1, ans2, ans3, ans4\n",
    "\n",
    "prob5()"
   ]
  },
  {
   "cell_type": "code",
   "execution_count": null,
   "metadata": {},
   "outputs": [],
   "source": []
  }
 ],
 "metadata": {
  "colab": {
   "collapsed_sections": [],
   "name": "pandas3.ipynb",
   "provenance": [],
   "version": "0.3.2"
  },
  "kernelspec": {
   "display_name": "Python 3",
   "language": "python",
   "name": "python3"
  },
  "language_info": {
   "codemirror_mode": {
    "name": "ipython",
    "version": 3
   },
   "file_extension": ".py",
   "mimetype": "text/x-python",
   "name": "python",
   "nbconvert_exporter": "python",
   "pygments_lexer": "ipython3",
   "version": "3.8.8"
  }
 },
 "nbformat": 4,
 "nbformat_minor": 1
}
