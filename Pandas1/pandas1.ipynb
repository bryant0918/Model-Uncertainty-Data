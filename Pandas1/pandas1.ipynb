{
 "cells": [
  {
   "cell_type": "markdown",
   "metadata": {
    "colab_type": "text",
    "id": "hr6QvWC1sVno"
   },
   "source": [
    "# Pandas 1\n",
    "\n",
    "## Bryant McArthur\n",
    "\n",
    "## Math 403\n",
    "\n",
    "## August 30, 2022"
   ]
  },
  {
   "cell_type": "code",
   "execution_count": 1,
   "metadata": {
    "colab": {},
    "colab_type": "code",
    "id": "D1pxi6sWEcmJ"
   },
   "outputs": [],
   "source": [
    "import numpy as np\n",
    "import pandas as pd"
   ]
  },
  {
   "cell_type": "markdown",
   "metadata": {
    "colab_type": "text",
    "id": "Y8nzrZCaE4bn"
   },
   "source": [
    "# Problem 1"
   ]
  },
  {
   "cell_type": "code",
   "execution_count": 21,
   "metadata": {},
   "outputs": [
    {
     "name": "stdout",
     "output_type": "stream",
     "text": [
      "[[  0.   0.   0.   0.   0.   0.   0.]\n",
      " [  0.   0.   0.   0.   0.   0.   0.]\n",
      " [  0.   0.   0.   0.   0.   0.   0.]\n",
      " [  0.   0.   0.   0.   0.   0.   0.]\n",
      " [  0.   0.   0.   0.   0.   0.   0.]\n",
      " [174. 800.  90.  37.  30.  23.   8.]\n",
      " [174. 800.  82.  35.  nan  26.  nan]\n",
      " [172. 800.  82.  31.  30.  26.   8.]\n",
      " [171. 800.  82.  40.  nan  23.  nan]\n",
      " [171. 800.  82.  35.  nan  27.  nan]\n",
      " [171. 800.  80.  30.  31.  22.  nan]\n",
      " [170. 800.  90.  34.  33.  nan   8.]\n",
      " [170. 800.  85.  34.  nan  25.  nan]\n",
      " [167. 800.  92.  30.  nan  29.  nan]\n",
      " [163. 800.  85.  30.  nan  nan  nan]\n",
      " [163. 800.  90.  31.  nan  25.  nan]\n",
      " [161. 800.  85.  30.  nan  24.  nan]\n",
      " [160. 800.  91.  32.  28.  23.  nan]\n",
      " [158. 800.  92.  nan  nan  22.  nan]\n",
      " [157. 800.  82.  nan  32.  21.   8.]\n",
      " [155. 800.  80.  nan  33.  26.   8.]\n",
      " [155. 800.  92.  33.  nan  nan  nan]\n",
      " [153. 800.  80.  31.  30.  27.   8.]\n",
      " [152. 800.  95.  30.  46.  nan   8.]\n",
      " [152. 800.  85.  39.  nan  29.  nan]\n",
      " [152. 800.  95.  32.  34.  22.   8.]\n",
      " [150. 800.  90.  34.  nan  25.  nan]\n",
      " [148. 800.  91.  40.  31.  nan  nan]\n",
      " [148. 800.  91.  34.  28.  27.  nan]\n",
      " [146. 800.  95.  31.  32.  23.   8.]\n",
      " [145. 800.  91.  30.  29.  28.  nan]\n",
      " [145. 800.  82.  40.  nan  27.  nan]\n",
      " [145. 800.  90.  32.  nan  29.  nan]\n",
      " [143. 800.  95.  38.  34.  21.   8.]\n",
      " [141. 800.  82.  37.  nan  27.  nan]\n",
      " [140. 800.  82.  31.  30.  24.   8.]\n",
      " [140. 800.  92.  34.  nan  24.  nan]\n",
      " [137. 800.  82.  nan  31.  28.   8.]\n",
      " [137. 800.  82.  36.  nan  20.  nan]\n",
      " [137. 800.  95.  36.  34.  23.   8.]\n",
      " [136. 800.  92.  36.  nan  22.  nan]\n",
      " [135. 800.  90.  34.  32.  22.   8.]\n",
      " [134. 800.  82.  39.  35.  24.   8.]\n",
      " [133. 800.  91.  36.  nan  23.  nan]\n",
      " [131. 800.  85.  38.  nan  23.  nan]\n",
      " [131. 800.  80.  31.  29.  nan  nan]\n",
      " [130. 800.  85.  31.  nan  22.  nan]\n",
      " [130. 800.  91.  34.  nan  21.  nan]]\n"
     ]
    }
   ],
   "source": [
    "# Prob 1\n",
    "def prob1(file='budget.csv'):\n",
    "    \"\"\"\"\n",
    "    Read in budget.csv as a DataFrame with the index as column 0 and perform each of these operations on the DataFrame in order. \n",
    "    \n",
    "    1) Reindex the columns such that amount spent on groceries is the first column and all other columns maintain the same ordering.\n",
    "    2) Sort the DataFrame in descending order based on how much money was spent on Groceries.\n",
    "    3) Reset all values in the 'Rent' column to 800.0.\n",
    "    4) Reset all values in the first 5 data points to 0.0\n",
    "    \n",
    "    Return the values of the updated DataFrame as a NumPy array.\n",
    "    \n",
    "    Parameters:\n",
    "        file (str): name of datafile\n",
    "        \n",
    "    Return:\n",
    "        values (ndarray): values of DataFrame\n",
    "    \"\"\"\n",
    "    # Read in the CSV file\n",
    "    budget = pd.read_csv(file, index_col=0)\n",
    "    \n",
    "    #Manipulate according to steps above\n",
    "    budget = budget.reindex(columns=['Groceries','Rent','Utilities','Dining Out','Gas','Out With Friends', 'Netflix'])\n",
    "    budget = budget.sort_values('Groceries', ascending=False)\n",
    "    budget['Rent'] = 800.0\n",
    "    budget.iloc[:5, :] = 0.0\n",
    "    \n",
    "    return budget.values\n",
    "    \n",
    "budget = prob1()\n",
    "print(budget)"
   ]
  },
  {
   "cell_type": "markdown",
   "metadata": {
    "colab_type": "text",
    "id": "FcGE9Qq5scpv"
   },
   "source": [
    "# Problem 2"
   ]
  },
  {
   "cell_type": "code",
   "execution_count": 53,
   "metadata": {
    "colab": {},
    "colab_type": "code",
    "id": "bZIdjL74RuuO"
   },
   "outputs": [
    {
     "name": "stdout",
     "output_type": "stream",
     "text": [
      "('Rent', 'Dining Out')\n"
     ]
    }
   ],
   "source": [
    "# Prob 2\n",
    "def prob2(file='budget.csv'):\n",
    "    \"\"\"\n",
    "    Read in file as DataFrame.\n",
    "    Fill all NaN values with 0.0.\n",
    "    Create two new columns, 'Living Expenses' and 'Other'. \n",
    "    Sum the columns 'Rent', 'Groceries', 'Gas' and 'Utilities' and set it as the value of 'Living Expenses'.\n",
    "    Sum the columns 'Dining Out', 'Out With Friends' and 'Netflix' and set as the value of 'Other'.\n",
    "    Identify which column, other than 'Living Expenses' correlates most with 'Living Expenses'\n",
    "    and which column other than 'Other' correlates most with 'Other'.\n",
    "\n",
    "    Return the names of each of those columns as a tuple.\n",
    "    The first should be of the column corresponding to \\li{'Living Expenses'} and the second to \\li{'Other'}.\n",
    "    \n",
    "    Parameters:\n",
    "        file (str): name of datafile\n",
    "        \n",
    "    Return:\n",
    "        values (tuple): (name of column that most relates to Living Expenses, name of column that most relates to Other)\n",
    "    \"\"\"\n",
    "    # Read in the CSV file\n",
    "    df = pd.read_csv(file, index_col=0)\n",
    "    \n",
    "    # Fill NA values\n",
    "    df = df.fillna(0.0)\n",
    "    \n",
    "    # Set new columns to sum of other columns\n",
    "    df['Living Expenses'], df['Other'] = df['Rent'] + df['Groceries'] + df['Gas'] + df['Utilities'], df['Dining Out'] + df['Out With Friends'] + df['Netflix']\n",
    "\n",
    "    # Create columns without living expenses and other\n",
    "    l_e, other = list(df.columns), list(df.columns)\n",
    "    l_e.remove('Living Expenses')\n",
    "    other.remove('Other')\n",
    "    \n",
    "    # Filter by new columns then return the index max\n",
    "    corr_le, corr_o = df.corr().filter(items=l_e, axis=0), df.corr().filter(items=other, axis=0)\n",
    "    \n",
    "    return (corr_le['Living Expenses'].idxmax(), corr_o['Other'].idxmax())\n",
    "    \n",
    "    \n",
    "print(prob2())"
   ]
  },
  {
   "cell_type": "markdown",
   "metadata": {
    "colab_type": "text",
    "id": "qVHAwFRRseXh"
   },
   "source": [
    "# Problem 3"
   ]
  },
  {
   "cell_type": "code",
   "execution_count": 7,
   "metadata": {
    "colab": {},
    "colab_type": "code",
    "id": "35VAshdqZhVD"
   },
   "outputs": [
    {
     "name": "stdout",
     "output_type": "stream",
     "text": [
      "('Property', array([2000, 2001, 2002, 2003, 2005, 2007, 2006], dtype=int64), 0.8997188308734142)\n"
     ]
    }
   ],
   "source": [
    "def prob3(file='crime_data.csv'):\n",
    "    \"\"\"\n",
    "    Read in crime data and use pandas to answer the following questions.\n",
    "    \n",
    "    Set the index as the column 'Year', and return the answers to each question as a tuple.\n",
    "    \n",
    "    1) Identify the three crimes that have a mean over 1,500,000. \n",
    "    Of these three crimes, which two are very correlated? \n",
    "    Which of these two crimes has a greater maximum value?\n",
    "    Save the title of this column as a variable to return as the answer.\n",
    "    \n",
    "    2) Examine the data since 2000.\n",
    "    Sort this data (in ascending order) according to number of murders.\n",
    "    Find the years where Aggravated Assault is greater than 850,000.\n",
    "    Save the indices (the years) of the masked and reordered DataFrame as a NumPy array to return as the answer.\n",
    "    \n",
    "    3) What year had the highest crime rate? \n",
    "    In this year, which crime was committed the most? \n",
    "    What percentage of the total crime that year was it? \n",
    "    Save this value as a float.\n",
    "    \n",
    "    \n",
    "    Parameters:\n",
    "        file (str): data\n",
    "    \n",
    "    Return:\n",
    "        ans_1 (string): answer to Question 1\n",
    "        ans_2 (ndarray): answer to Question 2\n",
    "        ans_3 (float): answer to Question 3\n",
    "    \"\"\"\n",
    "    # Read in csv file\n",
    "    df = pd.read_csv(file, index_col='Year')\n",
    "    \n",
    "    # Question 1\n",
    "    means = df.iloc[:,2:].mean()\n",
    "    mask = means >= 1500000\n",
    "    columns = means[mask].index\n",
    "    \n",
    "    # Get the correlation matrix with mask applied to rows and columns\n",
    "    corr = df.iloc[:,2:].corr()[mask].filter(items=list(columns),axis=1)\n",
    "    new_mask = corr < 1\n",
    "    \n",
    "    # Get the two most correlated\n",
    "    two_correlated = set(corr[new_mask].idxmax().ravel())\n",
    "    \n",
    "    # Find the max of the two most correlated\n",
    "    max_1 = df.loc[:,list(two_correlated)[0]].max()\n",
    "    max_2 = df.loc[:,list(two_correlated)[1]].max()\n",
    "    \n",
    "    # Set the answer to whichever max was higher\n",
    "    answer_1 = list(two_correlated)[0] if max_1 > max_2 else list(two_correlated)[1]\n",
    "    \n",
    "    # Question 2\n",
    "    this_millenium = df.loc[2000:].sort_values('Murder', ascending=True)\n",
    "    answer_2 = np.array(this_millenium[this_millenium['Aggravated Assault'] > 850000].index)\n",
    "    \n",
    "    #Question 3\n",
    "    df['Crime Rate'] = df['Total']/df['Population']\n",
    "    highest = df['Crime Rate'].idxmax()\n",
    "    answer_3 = df[list(set(df.columns) - set(['Population','Total']))].loc[highest].max()/df.loc[highest]['Total']\n",
    "    \n",
    "    return answer_1, answer_2, answer_3\n",
    "\n",
    "print(prob3())"
   ]
  },
  {
   "cell_type": "markdown",
   "metadata": {
    "colab_type": "text",
    "id": "4pfN6PbxsgC3"
   },
   "source": [
    "# Problem 4"
   ]
  },
  {
   "cell_type": "code",
   "execution_count": 12,
   "metadata": {
    "colab": {},
    "colab_type": "code",
    "id": "TAavKLA17LsN"
   },
   "outputs": [
    {
     "data": {
      "text/html": [
       "<div>\n",
       "<style scoped>\n",
       "    .dataframe tbody tr th:only-of-type {\n",
       "        vertical-align: middle;\n",
       "    }\n",
       "\n",
       "    .dataframe tbody tr th {\n",
       "        vertical-align: top;\n",
       "    }\n",
       "\n",
       "    .dataframe thead th {\n",
       "        text-align: right;\n",
       "    }\n",
       "</style>\n",
       "<table border=\"1\" class=\"dataframe\">\n",
       "  <thead>\n",
       "    <tr style=\"text-align: right;\">\n",
       "      <th></th>\n",
       "      <th>VALUE</th>\n",
       "    </tr>\n",
       "    <tr>\n",
       "      <th>DATE</th>\n",
       "      <th></th>\n",
       "    </tr>\n",
       "  </thead>\n",
       "  <tbody>\n",
       "    <tr>\n",
       "      <th>2006-09-27</th>\n",
       "      <td>11689.24</td>\n",
       "    </tr>\n",
       "    <tr>\n",
       "      <th>2006-09-28</th>\n",
       "      <td>11718.45</td>\n",
       "    </tr>\n",
       "    <tr>\n",
       "      <th>2006-09-29</th>\n",
       "      <td>11679.07</td>\n",
       "    </tr>\n",
       "    <tr>\n",
       "      <th>2006-10-02</th>\n",
       "      <td>11670.35</td>\n",
       "    </tr>\n",
       "    <tr>\n",
       "      <th>2006-10-03</th>\n",
       "      <td>11727.34</td>\n",
       "    </tr>\n",
       "    <tr>\n",
       "      <th>...</th>\n",
       "      <td>...</td>\n",
       "    </tr>\n",
       "    <tr>\n",
       "      <th>2016-09-20</th>\n",
       "      <td>18129.96</td>\n",
       "    </tr>\n",
       "    <tr>\n",
       "      <th>2016-09-21</th>\n",
       "      <td>18293.70</td>\n",
       "    </tr>\n",
       "    <tr>\n",
       "      <th>2016-09-22</th>\n",
       "      <td>18392.46</td>\n",
       "    </tr>\n",
       "    <tr>\n",
       "      <th>2016-09-23</th>\n",
       "      <td>18261.45</td>\n",
       "    </tr>\n",
       "    <tr>\n",
       "      <th>2016-09-26</th>\n",
       "      <td>18094.83</td>\n",
       "    </tr>\n",
       "  </tbody>\n",
       "</table>\n",
       "<p>2517 rows × 1 columns</p>\n",
       "</div>"
      ],
      "text/plain": [
       "               VALUE\n",
       "DATE                \n",
       "2006-09-27  11689.24\n",
       "2006-09-28  11718.45\n",
       "2006-09-29  11679.07\n",
       "2006-10-02  11670.35\n",
       "2006-10-03  11727.34\n",
       "...              ...\n",
       "2016-09-20  18129.96\n",
       "2016-09-21  18293.70\n",
       "2016-09-22  18392.46\n",
       "2016-09-23  18261.45\n",
       "2016-09-26  18094.83\n",
       "\n",
       "[2517 rows x 1 columns]"
      ]
     },
     "metadata": {},
     "output_type": "display_data"
    }
   ],
   "source": [
    "def prob4(file='DJIA.csv'):\n",
    "    \"\"\"\n",
    "\n",
    "    Read the data with a DatetimeIndex as the index.\n",
    "    Drop rows any rows without numerical values, cast the \"VALUE\" column to floats, then return the updated DataFrame.\n",
    "\n",
    "    Parameters:\n",
    "        file (str): data file\n",
    "    Returns:\n",
    "        df (DataFrame): updated DataFrame of stock market data\n",
    "    \"\"\"\n",
    "    # Load Data\n",
    "    df = pd.read_csv(file, index_col=\"DATE\")\n",
    "    \n",
    "    # Convert index to datetime\n",
    "    df.index = pd.to_datetime(df.index)\n",
    "    new_df = df[pd.to_numeric(df['VALUE'], errors='coerce').notnull()]\n",
    "    \n",
    "    return new_df.astype(float)\n",
    "\n",
    "display(prob4())"
   ]
  },
  {
   "cell_type": "markdown",
   "metadata": {
    "colab_type": "text",
    "id": "I663KesNsjMK"
   },
   "source": [
    "# Problem 5"
   ]
  },
  {
   "cell_type": "code",
   "execution_count": 15,
   "metadata": {},
   "outputs": [
    {
     "data": {
      "text/html": [
       "<div>\n",
       "<style scoped>\n",
       "    .dataframe tbody tr th:only-of-type {\n",
       "        vertical-align: middle;\n",
       "    }\n",
       "\n",
       "    .dataframe tbody tr th {\n",
       "        vertical-align: top;\n",
       "    }\n",
       "\n",
       "    .dataframe thead th {\n",
       "        text-align: right;\n",
       "    }\n",
       "</style>\n",
       "<table border=\"1\" class=\"dataframe\">\n",
       "  <thead>\n",
       "    <tr style=\"text-align: right;\">\n",
       "      <th></th>\n",
       "      <th>VALUE</th>\n",
       "    </tr>\n",
       "  </thead>\n",
       "  <tbody>\n",
       "    <tr>\n",
       "      <th>2008-03-14</th>\n",
       "      <td>1122.26</td>\n",
       "    </tr>\n",
       "    <tr>\n",
       "      <th>2008-03-28</th>\n",
       "      <td>921.03</td>\n",
       "    </tr>\n",
       "    <tr>\n",
       "      <th>2008-04-11</th>\n",
       "      <td>962.46</td>\n",
       "    </tr>\n",
       "    <tr>\n",
       "      <th>2008-04-25</th>\n",
       "      <td>1035.97</td>\n",
       "    </tr>\n",
       "    <tr>\n",
       "      <th>2008-05-09</th>\n",
       "      <td>1078.59</td>\n",
       "    </tr>\n",
       "    <tr>\n",
       "      <th>...</th>\n",
       "      <td>...</td>\n",
       "    </tr>\n",
       "    <tr>\n",
       "      <th>2011-07-29</th>\n",
       "      <td>1095.53</td>\n",
       "    </tr>\n",
       "    <tr>\n",
       "      <th>2011-08-12</th>\n",
       "      <td>1018.39</td>\n",
       "    </tr>\n",
       "    <tr>\n",
       "      <th>2011-08-26</th>\n",
       "      <td>1027.08</td>\n",
       "    </tr>\n",
       "    <tr>\n",
       "      <th>2011-09-09</th>\n",
       "      <td>1005.90</td>\n",
       "    </tr>\n",
       "    <tr>\n",
       "      <th>2011-09-23</th>\n",
       "      <td>963.29</td>\n",
       "    </tr>\n",
       "  </tbody>\n",
       "</table>\n",
       "<p>93 rows × 1 columns</p>\n",
       "</div>"
      ],
      "text/plain": [
       "              VALUE\n",
       "2008-03-14  1122.26\n",
       "2008-03-28   921.03\n",
       "2008-04-11   962.46\n",
       "2008-04-25  1035.97\n",
       "2008-05-09  1078.59\n",
       "...             ...\n",
       "2011-07-29  1095.53\n",
       "2011-08-12  1018.39\n",
       "2011-08-26  1027.08\n",
       "2011-09-09  1005.90\n",
       "2011-09-23   963.29\n",
       "\n",
       "[93 rows x 1 columns]"
      ]
     },
     "metadata": {},
     "output_type": "display_data"
    }
   ],
   "source": [
    "def prob5(file='paychecks.csv'):\n",
    "    \"\"\"\n",
    "\n",
    "    Create data_range for index of paycheck data.\n",
    "\n",
    "    Parameters:\n",
    "        file (str): data file\n",
    "    Returns:\n",
    "        df (DataFrame): DataFrame of paycheck data\n",
    "    \"\"\"\n",
    "    # Load Data\n",
    "    df = pd.read_csv(file, names=['VALUE'])\n",
    "    \n",
    "    # Find the range\n",
    "    ranges = pd.date_range(start='3/14/2008', freq='14D', periods=df.shape[0])\n",
    "    df.index = ranges\n",
    "    \n",
    "    return df\n",
    "\n",
    "display(prob5())"
   ]
  },
  {
   "cell_type": "markdown",
   "metadata": {
    "colab_type": "text",
    "id": "I663KesNsjMK"
   },
   "source": [
    "# Problem 6"
   ]
  },
  {
   "cell_type": "code",
   "execution_count": 17,
   "metadata": {
    "colab": {},
    "colab_type": "code",
    "id": "KGxh0mpSDLDD"
   },
   "outputs": [
    {
     "name": "stdout",
     "output_type": "stream",
     "text": [
      "(Timestamp('2008-10-13 00:00:00'), Timestamp('2008-09-29 00:00:00'))\n"
     ]
    }
   ],
   "source": [
    "def prob6(file='DJIA.csv'):\n",
    "    \"\"\"\n",
    "    Compute the following information about the DJIA dataset\n",
    "    1. The single day with the largest gain\n",
    "    2. The single day with the largest loss\n",
    "\n",
    "    Parameters:\n",
    "        file (str): data file\n",
    "    Returns:\n",
    "        max_day (<M8[ns]): DateTimeIndex of maximum change\n",
    "        min_day (<M8[ns]): DateTimeIndex of minimum change\n",
    "    \"\"\"\n",
    "    # Load Data\n",
    "    df = prob4(file)\n",
    "    \n",
    "    # Find the time difference for each value\n",
    "    df['time'] = df['VALUE'].diff()\n",
    "    max_day = df['time'].idxmax()\n",
    "    min_day = df['time'].idxmin()\n",
    "    \n",
    "    return max_day, min_day\n",
    "\n",
    "print(prob6())"
   ]
  },
  {
   "cell_type": "code",
   "execution_count": null,
   "metadata": {},
   "outputs": [],
   "source": []
  }
 ],
 "metadata": {
  "colab": {
   "collapsed_sections": [],
   "name": "pandas1.ipynb",
   "provenance": [],
   "version": "0.3.2"
  },
  "kernelspec": {
   "display_name": "Python 3",
   "language": "python",
   "name": "python3"
  },
  "language_info": {
   "codemirror_mode": {
    "name": "ipython",
    "version": 3
   },
   "file_extension": ".py",
   "mimetype": "text/x-python",
   "name": "python",
   "nbconvert_exporter": "python",
   "pygments_lexer": "ipython3",
   "version": "3.8.8"
  }
 },
 "nbformat": 4,
 "nbformat_minor": 1
}
