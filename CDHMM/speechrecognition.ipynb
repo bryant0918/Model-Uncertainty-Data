{
 "cells": [
  {
   "cell_type": "code",
   "execution_count": 1,
   "metadata": {
    "colab": {
     "base_uri": "https://localhost:8080/"
    },
    "id": "kFWoa0yleYvA",
    "outputId": "d0dcb789-c5dc-44c1-f92f-59f41b750197"
   },
   "outputs": [
    {
     "name": "stdout",
     "output_type": "stream",
     "text": [
      "Looking in indexes: https://pypi.org/simple, https://us-python.pkg.dev/colab-wheels/public/simple/\n",
      "Requirement already satisfied: hmmlearn in /usr/local/lib/python3.8/dist-packages (0.2.8)\n",
      "Requirement already satisfied: scikit-learn>=0.16 in /usr/local/lib/python3.8/dist-packages (from hmmlearn) (1.0.2)\n",
      "Requirement already satisfied: numpy>=1.10 in /usr/local/lib/python3.8/dist-packages (from hmmlearn) (1.22.4)\n",
      "Requirement already satisfied: scipy>=0.19 in /usr/local/lib/python3.8/dist-packages (from hmmlearn) (1.7.3)\n",
      "Requirement already satisfied: joblib>=0.11 in /usr/local/lib/python3.8/dist-packages (from scikit-learn>=0.16->hmmlearn) (1.2.0)\n",
      "Requirement already satisfied: threadpoolctl>=2.0.0 in /usr/local/lib/python3.8/dist-packages (from scikit-learn>=0.16->hmmlearn) (3.1.0)\n"
     ]
    }
   ],
   "source": [
    "!pip install hmmlearn"
   ]
  },
  {
   "cell_type": "code",
   "execution_count": 2,
   "metadata": {
    "id": "ur54ENJmZ1RO"
   },
   "outputs": [],
   "source": [
    "from scipy.special import logsumexp\n",
    "import scipy as sp\n",
    "import scipy.io.wavfile as wavfile\n",
    "import os\n",
    "from hmmlearn import hmm\n",
    "import MFCC\n",
    "import numpy as np\n",
    "import re\n",
    "import random\n",
    "import pickle\n",
    "from matplotlib import pyplot as plt\n",
    "from sklearn.decomposition import PCA\n",
    "from sklearn.model_selection import train_test_split as tts"
   ]
  },
  {
   "cell_type": "markdown",
   "metadata": {
    "id": "LcZJzYpedM9p"
   },
   "source": [
    "## Problem 1\n",
    "\n",
    "Write a function which accepts a GMMHMM as well as\n",
    "an integer n_sim, and which simulates the GMMHMM process, generating n_sim different\n",
    "observations. Use the example GMMHMM to sample 900 times. Use PCA from SkLearn to plot your generated observations in 2D space. Color observations by state."
   ]
  },
  {
   "cell_type": "code",
   "execution_count": 3,
   "metadata": {
    "id": "A9swZHfmaCXo"
   },
   "outputs": [],
   "source": [
    "def sample_gmmhmm(gmmhmm, n_sim):\n",
    "    \"\"\"\n",
    "    Simulate from a GMMHMM.\n",
    "    \n",
    "    Returns\n",
    "    -------\n",
    "    states : ndarray of shape (n_sim,)\n",
    "        The sequence of states\n",
    "    obs : ndarray of shape (n_sim, M)\n",
    "        The generated observations (vectors of length M)\n",
    "    \"\"\"\n",
    "    # Get attributes\n",
    "    A = gmmhmm[0]\n",
    "    weights = gmmhmm[1]\n",
    "    means = gmmhmm[2]\n",
    "    covars = gmmhmm[3]\n",
    "    pi = gmmhmm[4]\n",
    "\n",
    "    # Initialize lists\n",
    "    states = []\n",
    "    obs = []\n",
    "\n",
    "    # Get first state from pi\n",
    "    state = np.argmax(np.random.multinomial(1,pi))\n",
    "\n",
    "    # Iterate through number of samples\n",
    "    for i in range(n_sim):\n",
    "\n",
    "      states.append(state)\n",
    "\n",
    "      sample_component = np.argmax(np.random.multinomial(1, weights[state,:]))\n",
    "      sample = np.random.multivariate_normal(means[state, sample_component, :], covars[state, sample_component, :, :])\n",
    "      obs.append(sample)\n",
    "\n",
    "      state = np.argmax(np.random.multinomial(1, A[:, state]))\n",
    "\n",
    "    return states, obs\n"
   ]
  },
  {
   "cell_type": "code",
   "execution_count": 4,
   "metadata": {
    "colab": {
     "base_uri": "https://localhost:8080/",
     "height": 265
    },
    "id": "KE0pNmlthx3f",
    "outputId": "22ed4fcf-3ba9-4683-8ee5-ab74a8a36fba"
   },
   "outputs": [
    {
     "data": {
      "image/png": "[encoded data removed]",
      "text/plain": [
       "<Figure size 432x288 with 1 Axes>"
      ]
     },
     "metadata": {
      "needs_background": "light"
     },
     "output_type": "display_data"
    }
   ],
   "source": [
    "# Test GMM\n",
    "A = np.array([[.3, .3, .4], [.2, .3, .5], [.3, .2, .5]])\n",
    "weights = np.array([[.3, .2, .1, .2, .2], [.1, .3, .3, .2, .1], [.1, .3, .2, .1, .3]])\n",
    "means = np.array([np.floor(np.random.uniform(-100, 100, size = (5, 4))) for i in range(3)])\n",
    "covars = np.array([[np.floor(np.random.uniform(1, 20))*np.eye(4) for i in range(5)] for j in range(3)])\n",
    "pi = np.array([.15, .15, .7])\n",
    "\n",
    "# Save the model parameters\n",
    "gmm = [A, weights, means, covars, pi]\n",
    "\n",
    "states, obs = sample_gmmhmm(gmm, 900)\n",
    "\n",
    "# PCA\n",
    "pca = PCA(n_components=2)\n",
    "pca.fit(obs)\n",
    "obs = pca.transform(obs)\n",
    "\n",
    "# Plot it\n",
    "plt.scatter(obs[:,0], obs[:,1], c=states)\n",
    "plt.show()"
   ]
  },
  {
   "cell_type": "markdown",
   "metadata": {
    "id": "oENOTKkZdPmr"
   },
   "source": [
    "## Problem 2\n",
    "\n",
    "Samples.zip contains 30 recordings for each of the words/phrases mathematics, biology, political science, psychology, and statistics. These audio samples are 2 seconds in\n",
    "duration, recorded at a rate of 44100 samples per second, with samples stored as 16-bit signed\n",
    "integers in WAV format. \n",
    "Load the recordings into Python using scipy.io.wavfile.read\n",
    "\n",
    "Extract the MFCCs from each sample using code from the file MFCC.py.\n",
    "Store the MFCCs for each word in a separate list. You should have five lists, each containing\n",
    "30 MFCC arrays, corresponding to each of the five words under consideration."
   ]
  },
  {
   "cell_type": "code",
   "execution_count": 5,
   "metadata": {
    "id": "p-VgbaayqdWS"
   },
   "outputs": [],
   "source": [
    "# !unzip Samples.zip"
   ]
  },
  {
   "cell_type": "code",
   "execution_count": 6,
   "metadata": {
    "colab": {
     "base_uri": "https://localhost:8080/",
     "height": 299
    },
    "id": "leBZkk9yq7hJ",
    "outputId": "23bce0f0-e156-4dfd-f94b-d5efdc69b15b"
   },
   "outputs": [
    {
     "name": "stderr",
     "output_type": "stream",
     "text": [
      "<ipython-input-6-dca836a15f5a>:5: WavFileWarning: Chunk (non-data) not understood, skipping it.\n",
      "  samplerate, data = wavfile.read(f)\n"
     ]
    },
    {
     "name": "stdout",
     "output_type": "stream",
     "text": [
      "30\n",
      "30\n",
      "30\n",
      "30\n",
      "30\n"
     ]
    },
    {
     "data": {
      "image/png": "[encoded data removed]",
      "text/plain": [
       "<Figure size 432x288 with 1 Axes>"
      ]
     },
     "metadata": {
      "needs_background": "light"
     },
     "output_type": "display_data"
    }
   ],
   "source": [
    "bio, math, polisci, psych, stats, = [], [], [], [], []\n",
    "# Go through all the files and read and extract\n",
    "for filename in os.listdir(\"Samples\"):\n",
    "    f = os.path.join(\"Samples\", filename)\n",
    "    if os.path.isfile(f):\n",
    "      samplerate, data = wavfile.read(f)\n",
    "      model = MFCC.extract(data, show=False)\n",
    "      if \"Biology\" in filename:\n",
    "        bio.append(model)\n",
    "      elif \"Math\" in filename:\n",
    "        math.append(model)\n",
    "      elif \"Poli\" in filename:\n",
    "        polisci.append(model)\n",
    "      elif \"Psych\" in filename:\n",
    "        psych.append(model)\n",
    "      elif \"Stat\" in filename:\n",
    "        stats.append(model)\n",
    "\n",
    "# Check lengths\n",
    "print(len(bio))\n",
    "print(len(math))\n",
    "print(len(polisci))\n",
    "print(len(psych))\n",
    "print(len(stats))"
   ]
  },
  {
   "cell_type": "markdown",
   "metadata": {
    "id": "qJsCCrv3dUux"
   },
   "source": [
    "## Problem 3\n",
    "\n",
    "Partition each list of MFCCs into a training set of 20 samples, and a test set of\n",
    "the remaining 10 samples.\n",
    "Using the training sets, train a GMMHMM on each of the words from the previous problem\n",
    "with at least 10 random restarts, keeping the best model for each word (the one with the highest\n",
    "log-likelihood). This process may take several minutes. Since you will not want to run this\n",
    "more than once, you will want to save the best model for each word to disk using the pickle\n",
    "module so that you can use it later."
   ]
  },
  {
   "cell_type": "code",
   "execution_count": 7,
   "metadata": {
    "id": "BjSRmAzMdWug"
   },
   "outputs": [],
   "source": [
    "def initialize(n_states):\n",
    "    transmat = np.ones((n_states,n_states))/float(n_states)\n",
    "    for i in range(n_states):\n",
    "        transmat[i,:] += sp.random.uniform(-1./n_states,1./n_states,n_states)\n",
    "        transmat[i,:] /= sum(transmat[i,:])\n",
    "    startprob = np.ones(n_states)/float(n_states) + sp.random.uniform(-1./n_states,1./n_states,n_states)\n",
    "    startprob /= sum(startprob)\n",
    "    return startprob, transmat"
   ]
  },
  {
   "cell_type": "code",
   "execution_count": 15,
   "metadata": {
    "id": "WlELRfJEvVQO"
   },
   "outputs": [],
   "source": [
    "# Test train split\n",
    "bio_train, bio_test = tts(bio, test_size=10,train_size=20)\n",
    "math_train, math_test = tts(math, test_size=10, train_size=20)\n",
    "poli_train, poli_test = tts(polisci, test_size=10, train_size=20)\n",
    "psych_train, psych_test = tts(psych, test_size=10, train_size=20)\n",
    "stats_train, stats_test = tts(stats, test_size=10, train_size=20)\n",
    "\n",
    "data_dict = {\"bio\":bio_train, \"math\":math_train, \"poli\":poli_train, \"psych\":psych_train, \"stats\":stats_train}\n",
    "\n",
    "best_models = {}\n",
    "# Find Best\n",
    "for word in data_dict:\n",
    "  logprob = -np.inf\n",
    "  for i in range(10):\n",
    "    data = data_dict[word] # Reshape data for hmmlearn's fit method\n",
    "    lengths = [data[0].shape[0]] * len(data)\n",
    "    data_collected = np.vstack(data)\n",
    "\n",
    "    # Get probabilities and transition matrices\n",
    "    startprob, transmat = initialize(5)\n",
    "    model = hmm.GMMHMM(n_components=5, covariance_type=\"diag\", init_params=\"mc\") \n",
    "    model.startprob_ = startprob # Set probabilities and transition matrices\n",
    "    model.transmat_ = transmat\n",
    "    model.fit(data_collected) # Fit the model\n",
    "    if model.monitor_.history[-1] > logprob:\n",
    "      logprob = model.monitor_.history[-1]\n",
    "      best_model = model\n",
    "\n",
    "  best_models[word] = best_model\n",
    "\n",
    "  # Save best models\n",
    "  temp = {word: best_model}\n",
    "  with open(word, 'wb') as out:\n",
    "    pickle.dump(temp, out)\n",
    "\n"
   ]
  },
  {
   "cell_type": "markdown",
   "metadata": {
    "id": "-zQUslwrdYv1"
   },
   "source": [
    "## Problem 4\n",
    "\n",
    "Find the classification accuracies of the five GMMHMMs, and return a dictionary\n",
    "where the words/phrases are the keys, and the values are the percent accuracies."
   ]
  },
  {
   "cell_type": "code",
   "execution_count": 26,
   "metadata": {
    "colab": {
     "base_uri": "https://localhost:8080/"
    },
    "id": "kx3qnkVPdape",
    "outputId": "69ed55c8-3e24-4fa9-b414-763a20885d3a"
   },
   "outputs": [
    {
     "name": "stdout",
     "output_type": "stream",
     "text": [
      "{'bio': 1.0, 'math': 1.0, 'poli': 1.0, 'psych': 1.0, 'stats': 1.0}\n"
     ]
    }
   ],
   "source": [
    "test_dict = {\"bio\":bio_test, \"math\":math_test, \"poli\":poli_test, \"psych\":psych_test, \"stats\":stats_test}\n",
    "evaluation = {\"bio\":0, \"math\":0, \"poli\":0, \"psych\":0, \"stats\":0}\n",
    "\n",
    "# Iterate through all the test sets\n",
    "for word in test_dict:\n",
    "  data = test_dict[word]\n",
    "\n",
    "  # Iterate through each sample\n",
    "  for test in data:\n",
    "    score = -np.inf\n",
    "    best_word = word\n",
    "\n",
    "    # Iterate through each model\n",
    "    for word2 in best_models:\n",
    "      model = best_models[word2]\n",
    "\n",
    "      # Save model and score that is the best\n",
    "      if model.score(test) > score:\n",
    "        score = model.score(test)\n",
    "        best_word = word2\n",
    "    evaluation[best_word] += 1\n",
    "\n",
    "# Divide each by number of samples for accuracy\n",
    "for word in evaluation:\n",
    "  evaluation[word] /= 10\n",
    "\n",
    "print(evaluation)"
   ]
  },
  {
   "cell_type": "code",
   "execution_count": null,
   "metadata": {
    "id": "WNvc_9_R6IsH"
   },
   "outputs": [],
   "source": [
    "#"
   ]
  }
 ],
 "metadata": {
  "colab": {
   "provenance": []
  },
  "gpuClass": "standard",
  "kernelspec": {
   "display_name": "Python 3",
   "language": "python",
   "name": "python3"
  },
  "language_info": {
   "codemirror_mode": {
    "name": "ipython",
    "version": 3
   },
   "file_extension": ".py",
   "mimetype": "text/x-python",
   "name": "python",
   "nbconvert_exporter": "python",
   "pygments_lexer": "ipython3",
   "version": "3.8.8"
  }
 },
 "nbformat": 4,
 "nbformat_minor": 1
}
