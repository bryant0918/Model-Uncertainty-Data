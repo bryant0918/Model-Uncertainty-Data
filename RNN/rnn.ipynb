{
 "cells": [
  {
   "cell_type": "code",
   "execution_count": 1,
   "metadata": {
    "colab": {},
    "colab_type": "code",
    "id": "_HaCF0y2YpwU"
   },
   "outputs": [],
   "source": [
    "# !pip install --upgrade music21\n",
    "from music21 import converter, instrument, note, chord, stream, midi\n",
    "# from google.colab import files\n",
    "import glob\n",
    "import os\n",
    "import gzip\n",
    "import tarfile    \n",
    "from torchvision import datasets                  \n",
    "import numpy as np\n",
    "import torch\n",
    "import torch.nn as nn\n",
    "import torch.optim as optim\n",
    "from torch.utils.data import DataLoader, random_split, TensorDataset\n",
    "import matplotlib.pyplot as plt\n",
    "from tqdm import tqdm\n",
    "from sklearn.model_selection import train_test_split as tts\n",
    "\n",
    "assert torch.cuda.is_available()\n",
    "\n",
    "device = torch.device(\"cuda:0\" if torch.cuda.is_available() else \"cpu\")"
   ]
  },
  {
   "cell_type": "code",
   "execution_count": null,
   "metadata": {
    "colab": {},
    "colab_type": "code",
    "id": "MQLLgkzrYviL"
   },
   "outputs": [],
   "source": [
    "# Import Drive for easier saving\n",
    "from google.colab import drive\n",
    "drive.mount('/content/drive')"
   ]
  },
  {
   "cell_type": "code",
   "execution_count": 2,
   "metadata": {
    "colab": {},
    "colab_type": "code",
    "id": "rCbORzBiYy6f"
   },
   "outputs": [],
   "source": [
    "def download_data(filepath):\n",
    "    if not os.path.exists(os.path.join(filepath, 'mozart_sonatas.tar.gz')):\n",
    "        datasets.utils.download_url('https://github.com/Foundations-of-Applied-Mathematics/Data/raw/master/RNN/mozart_sonatas.tar.gz', filepath, 'mozart_sonatas.tar.gz', None)\n",
    "\n",
    "    print('Extracting {}'.format('mozart_sonatas.tar.gz'))\n",
    "    gzip_path = os.path.join(filepath, 'mozart_sonatas.tar.gz')\n",
    "    with open(gzip_path.replace('.gz', ''), 'wb') as out_f, gzip.GzipFile(gzip_path) as zip_f:\n",
    "        out_f.write(zip_f.read())\n",
    "\n",
    "    print('Untarring {}'.format('mozart_sonatas.tar'))\n",
    "    tar_path = os.path.join(filepath,'mozart_sonatas.tar')\n",
    "    z = tarfile.TarFile(tar_path)\n",
    "    z.extractall(tar_path.replace('.tar', ''))\n"
   ]
  },
  {
   "cell_type": "markdown",
   "metadata": {
    "colab_type": "text",
    "id": "m7WTL6LYY0uP"
   },
   "source": [
    "# Problem 1 #\n",
    "\n",
    "Download the data.\n",
    "Write a function that accepts the path to the .mid files, parses the files, and returns a list of the 114208 Notes and Chords as strings. \n",
    "There are many element types in MIDI files, so be sure to only look for Notes and Chords.\n",
    "For the Chords, join the pitches of the Notes in the Chords with a . as in (D3.D2).\n",
    "\n",
    "Print the length of your list and the number of unique Notes and Chords.\n"
   ]
  },
  {
   "cell_type": "code",
   "execution_count": 10,
   "metadata": {
    "colab": {},
    "colab_type": "code",
    "id": "hEpK4GIyZCWg"
   },
   "outputs": [
    {
     "name": "stdout",
     "output_type": "stream",
     "text": [
      "Downloading https://raw.githubusercontent.com/Foundations-of-Applied-Mathematics/Data/master/RNN/mozart_sonatas.tar.gz to C:\\Users\\bryan\\Documents\\School\\Winter 2023\\Math 405\\volume3\\RNN\\mozart_sonatas.tar.gz\n"
     ]
    },
    {
     "data": {
      "application/vnd.jupyter.widget-view+json": {
       "model_id": "a811fd30b3d243c7acc6823e73e3662d",
       "version_major": 2,
       "version_minor": 0
      },
      "text/plain": [
       "  0%|          | 0/430509 [00:00<?, ?it/s]"
      ]
     },
     "metadata": {},
     "output_type": "display_data"
    },
    {
     "name": "stdout",
     "output_type": "stream",
     "text": [
      "Extracting mozart_sonatas.tar.gz\n",
      "Untarring mozart_sonatas.tar\n"
     ]
    }
   ],
   "source": [
    "download_data(os.getcwd())"
   ]
  },
  {
   "cell_type": "code",
   "execution_count": 3,
   "metadata": {},
   "outputs": [],
   "source": [
    "def order_pitches(pitches):\n",
    "    return sorted(list(set([str(n) for n in pitches])))\n",
    "\n",
    "def mid(path):\n",
    "    \"\"\"\n",
    "    Accepts:\n",
    "    path: file path to mid files\n",
    "    \n",
    "    Parses files\n",
    "    \n",
    "    Returns:\n",
    "    notes_chords: list of 114208 notes and chords as strings\n",
    "    \"\"\"\n",
    "    notes_chords = []\n",
    "    for file in os.listdir(path):\n",
    "        print(file)\n",
    "        midi = converter.parse(os.path.join(path,file))\n",
    "        notes_to_parse = instrument.partitionByInstrument(midi).parts.stream().recurse()\n",
    "        for element in notes_to_parse:\n",
    "            if isinstance(element, note.Note):\n",
    "                notes_chords += [str(element.pitch)]\n",
    "            elif isinstance(element, chord.Chord):\n",
    "                pitches = []\n",
    "                for i in range(len(element.pitches)):\n",
    "                    pitches.append(element.pitches[i])\n",
    "\n",
    "                pitches = order_pitches(pitches)\n",
    "                notes_chords.append('.'.join(pitches))\n",
    "            \n",
    "    return notes_chords\n",
    "    \n",
    "    "
   ]
  },
  {
   "cell_type": "code",
   "execution_count": 4,
   "metadata": {},
   "outputs": [
    {
     "name": "stdout",
     "output_type": "stream",
     "text": [
      "piano_sonata_279.mid\n",
      "piano_sonata_280.mid\n",
      "piano_sonata_281.mid\n",
      "piano_sonata_282.mid\n",
      "piano_sonata_283.mid\n",
      "piano_sonata_284.mid\n",
      "piano_sonata_309.mid\n",
      "piano_sonata_310.mid\n",
      "piano_sonata_311.mid\n",
      "piano_sonata_330.mid\n",
      "piano_sonata_331.mid\n",
      "piano_sonata_332.mid\n",
      "piano_sonata_333.mid\n",
      "piano_sonata_400.mid\n",
      "piano_sonata_457.mid\n",
      "piano_sonata_545.mid\n",
      "piano_sonata_547.mid\n",
      "piano_sonata_570.mid\n",
      "piano_sonata_576.mid\n",
      "piano_sonata_593.mid\n",
      "114208\n"
     ]
    }
   ],
   "source": [
    "notes_chords = mid(\"mozart_sonatas\\mozart_sonatas\")\n",
    "print(len(notes_chords))"
   ]
  },
  {
   "cell_type": "code",
   "execution_count": 5,
   "metadata": {},
   "outputs": [
    {
     "name": "stdout",
     "output_type": "stream",
     "text": [
      "668\n"
     ]
    }
   ],
   "source": [
    "print(len(set(notes_chords)))"
   ]
  },
  {
   "cell_type": "markdown",
   "metadata": {
    "colab_type": "text",
    "id": "3votXpqiZCtY"
   },
   "source": [
    "# Problem 2 #\n",
    "\n",
    "Using the list returned in Problem 1, create the training and testing DataLoaders.\n",
    "Make sure to do all of the following steps:\n",
    "\n",
    "\n",
    "1) Convert the pitches to integers.\n",
    "\n",
    "2) Split the data into Long tensors of length 100.\n",
    "\n",
    "3) Create the labels.\n",
    "\n",
    "4) Randomly split the data into training, validation, and test sets using an 70/15/15 split.\n",
    "\n",
    "5) Create the DataLoaders for these sets of data, using batch_size=128 for the training data and batch_size=32 for the validation and test data; also, set shuffle=True for the training data and False for the validation and test data (this is common practice in Deep Learning).\n",
    " \n",
    "\n",
    "Print the length of each DataLoader (they should be 624, 535, and 535, respectively).\n"
   ]
  },
  {
   "cell_type": "code",
   "execution_count": 6,
   "metadata": {
    "colab": {},
    "colab_type": "code",
    "id": "UghZuJfxZuzO"
   },
   "outputs": [],
   "source": [
    "pitches_integers = {list(set(notes_chords))[i]:i for i in range(len(set(notes_chords)))}\n",
    "data = [pitches_integers[pitch] for pitch in notes_chords]\n",
    "\n",
    "sequence_labels = []\n",
    "for x in range(len(data)-100):\n",
    "    sequence_labels.append([torch.LongTensor(data[x:x+100]), data[x+100]])"
   ]
  },
  {
   "cell_type": "code",
   "execution_count": 46,
   "metadata": {},
   "outputs": [
    {
     "name": "stdout",
     "output_type": "stream",
     "text": [
      "624\n",
      "535\n",
      "535\n"
     ]
    }
   ],
   "source": [
    "# lengths=[.7*len(sequence_labels),.15*len(sequence_labels),.15*len(sequence_labels)]\n",
    "lengths = [79876, 17116, 17116]\n",
    "\n",
    "train, val, test = random_split(sequence_labels, lengths=lengths)\n",
    "\n",
    "# Get Loaders\n",
    "train_loader = DataLoader(train, batch_size=128, shuffle=True, drop_last=True)\n",
    "valid_loader = DataLoader(val, batch_size=32, shuffle=False)\n",
    "test_loader = DataLoader(test, batch_size=32, shuffle=False)\n",
    "\n",
    "print(len(train_loader))\n",
    "print(len(valid_loader))\n",
    "print(len(test_loader))"
   ]
  },
  {
   "cell_type": "markdown",
   "metadata": {
    "colab_type": "text",
    "id": "mOtS86Rbi0P_"
   },
   "source": [
    "# Problem 3 #\n",
    "\n",
    "Create an LSTM network class.\n",
    "Have a hidden layer size of 256, and include at least $3$ LSTM layers.\n",
    "Also have at least $2$ Linear layers.\n",
    "The last LSTM layer and each of the Linear layers should be followed by a BatchNorm1d layer, for a total of at least $3$ total BatchNorm layers.\n",
    "The final layer should be a Softmax activation.\n",
    "\n",
    "Initialize the model.\n",
    "Define the loss as CrossEntropyLoss, and define the optimizer as RMSprop.\n",
    "\n",
    "Train the model for at least 30 epochs, saving the weights every epoch. \n",
    "\n",
    "After taking a backwards step during training, scale the gradients using \n",
    "nn.utils.clip_grad_norm_(model.parameters(), 5)\n",
    "This will ensure that the gradients are reasonably sized so that the model can learn.\n",
    "\n",
    "At the end of every epoch, calculate the validation accuracy and mean loss on the validation data.\n",
    "Remember to change the model to eval() mode when running the validation data and train() when running on the training data.\n",
    "You will also need to reinitialize the hidden states (h0, h1) since the batch sizes are different.\n",
    "\n",
    "After the validation accuracy is above 60\\%, plot the training and validation losses versus epochs on the same plot.\n",
    "Also, plot the validation accuracy versus epochs.\n",
    "Then, print the final test accuracy by running the finished model on the test data.\n"
   ]
  },
  {
   "cell_type": "code",
   "execution_count": 16,
   "metadata": {
    "colab": {},
    "colab_type": "code",
    "id": "jMhH1W7ciwzB"
   },
   "outputs": [
    {
     "name": "stderr",
     "output_type": "stream",
     "text": [
      "epoch:1, loss:4.6806: 100%|██████████████████████████████████████████████████████████| 624/624 [01:58<00:00,  5.25it/s]\n"
     ]
    }
   ],
   "source": [
    "class RNN(nn.Module):\n",
    "    \"\"\" Recurrent Neural Network Class \"\"\"\n",
    "\n",
    "    def __init__(self, n_notes, embedding_dim):\n",
    "        super(RNN, self).__init__()\n",
    "    \n",
    "        self.hidden_size = 128\n",
    "        self.num_layers = 3\n",
    "        self.n_notes = n_notes\n",
    "        self.embedding = nn.Embedding(n_notes, embedding_dim)\n",
    "        self.lstm = nn.LSTM(embedding_dim, self.hidden_size, self.num_layers, batch_first=True)\n",
    "        self.batch1 = nn.BatchNorm1d(self.hidden_size)\n",
    "        self.linear1 = nn.Linear(self.hidden_size, 1000)\n",
    "        self.batch2 = nn.BatchNorm1d(1000)\n",
    "        self.linear2 = nn.Linear(1000, n_notes)\n",
    "        self.batch3 = nn.BatchNorm1d(n_notes)\n",
    "        \n",
    "        self.relu = nn.ReLU()\n",
    "        self.softmax = nn.LogSoftmax(dim=1)\n",
    "        \n",
    "        self.loss = nn.CrossEntropyLoss()\n",
    "        \n",
    "      \n",
    "    def forward(self, x, hidden):\n",
    "        embeds = self.embedding(x)\n",
    "        \n",
    "        # 3 lstm layers\n",
    "        lstm_out, hidden = self.lstm(embeds, hidden)\n",
    "        out = self.batch1(lstm_out[:,-1])\n",
    "        \n",
    "        # 2 Linear Layers\n",
    "        linear_out = self.relu(self.linear1(out))\n",
    "        out = self.batch2(linear_out)\n",
    "        linear_out = self.relu(self.linear2(out))\n",
    "        out = self.batch3(linear_out)\n",
    "        \n",
    "        # Final softmax layer\n",
    "        x = self.softmax(out)\n",
    "        \n",
    "        return x, hidden\n",
    "\n",
    "    def init_hidden(self,batch_size):\n",
    "        # initialize the hidden layers\n",
    "        weight = next(self.parameters()).data\n",
    "        h0 = weight.new(self.num_layers, batch_size, self.hidden_size).zero_().to(device)\n",
    "        h1 = weight.new(self.num_layers, batch_size, self.hidden_size).zero_().to(device)\n",
    "        return (h0, h1)"
   ]
  },
  {
   "cell_type": "code",
   "execution_count": 30,
   "metadata": {},
   "outputs": [],
   "source": [
    "def train(model, train_loader, valid_loader, n_epochs):\n",
    "    \n",
    "    optimizer = optim.RMSprop(model.parameters(), lr=.001)\n",
    "    \n",
    "    # Set up progress bar\n",
    "    loop = tqdm(total=len(train_loader), position=0)\n",
    "    \n",
    "    mean_train_losses, mean_valid_losses, mean_valid_accs = [], [], []\n",
    "    for epoch in range(1,n_epochs+1):\n",
    "        model.train()\n",
    "        (h0,h1) = model.init_hidden(128)\n",
    "        \n",
    "        train_losses = []\n",
    "        for x_truth, y_truth in train_loader:\n",
    "            x_truth, y_truth = x_truth.to(device), y_truth.to(device)\n",
    "            optimizer.zero_grad()\n",
    "            \n",
    "            output, (h0,h1) = model(x_truth, (h0,h1))\n",
    "            h0 = h0.detach()\n",
    "            h1 = h1.detach()\n",
    "            \n",
    "            # Get Training Loss\n",
    "            loss = model.loss(output, y_truth)\n",
    "            train_losses.append(loss.item())\n",
    "            loop.set_description('epoch:{}, loss:{:.4f}'.format(epoch,loss.item()))\n",
    "            loop.update()\n",
    "            loss.backward()\n",
    "            optimizer.step()\n",
    "            nn.utils.clip_grad_norm_(model.parameters(), 5)\n",
    "\n",
    "            \n",
    "            \n",
    "        torch.save({'epoch': epoch,\n",
    "                   'model_state_dict': model.state_dict(),\n",
    "                   'optimizer_state_dict': optimizer.state_dict(),\n",
    "                   'loss': loss}, 'ckpts/mozart.ckpt')\n",
    "        \n",
    "        # Calculate Validation Accuracy\n",
    "        validation = 0\n",
    "        valid_losses = []\n",
    "        model.eval()\n",
    "        for x_truth, y_truth in valid_loader:\n",
    "            x_truth, y_truth = x_truth.to(device), y_truth.to(device)\n",
    "            (h0,h1) = model.init_hidden(len(y_truth))\n",
    "            y_hat, _ = model(x_truth, (h0,h1))\n",
    "            loss = model.loss(y_hat, y_truth)\n",
    "            valid_losses.append(loss.item())\n",
    "            \n",
    "            validation += sum(torch.eq(y_truth, y_hat.argmax(1)))/len(y_truth)\n",
    "            \n",
    "        mean_valid_acc = validation.item() / len(valid_loader)\n",
    "        \n",
    "        mean_train_losses.append(np.mean(train_losses))\n",
    "        mean_valid_accs.append(mean_valid_acc)\n",
    "        mean_valid_losses.append(np.mean(valid_losses))\n",
    "        if mean_valid_acc > .6:\n",
    "            loop.close()\n",
    "            break\n",
    "    loop.close()\n",
    "    return model, mean_train_losses, mean_valid_losses, mean_valid_accs"
   ]
  },
  {
   "cell_type": "code",
   "execution_count": 31,
   "metadata": {},
   "outputs": [
    {
     "name": "stderr",
     "output_type": "stream",
     "text": [
      "epoch:30, loss:0.6721: : 18720it [27:10, 11.48it/s]                                                                    \n"
     ]
    }
   ],
   "source": [
    "model = RNN(668,32)\n",
    "model.to(device)\n",
    "\n",
    "model, train_loss, valid_loss, valid_accs = train(model, train_loader, valid_loader, 30)"
   ]
  },
  {
   "cell_type": "code",
   "execution_count": 34,
   "metadata": {},
   "outputs": [],
   "source": [
    "torch.save({'epoch': 30,\n",
    "                   'model_state_dict': model.state_dict(),\n",
    "                   'loss': train_loss[-1]}, 'ckpts/mozart.ckpt')"
   ]
  },
  {
   "cell_type": "code",
   "execution_count": 35,
   "metadata": {},
   "outputs": [
    {
     "name": "stdout",
     "output_type": "stream",
     "text": [
      "0.3944843042676694\n"
     ]
    }
   ],
   "source": [
    "# Calculate Test Accuracy\n",
    "test_score = 0\n",
    "model.eval()\n",
    "for x_truth, y_truth in test_loader:\n",
    "    x_truth, y_truth = x_truth.to(device), y_truth.to(device)\n",
    "    (h0,h1) = model.init_hidden(len(y_truth))\n",
    "    y_hat, _ = model(x_truth, (h0,h1))\n",
    "\n",
    "    test_score += sum(torch.eq(y_truth, y_hat.argmax(1)))/len(y_truth)\n",
    "\n",
    "mean_test_acc = test_score.item() / len(test_loader)"
   ]
  },
  {
   "cell_type": "code",
   "execution_count": 36,
   "metadata": {},
   "outputs": [
    {
     "name": "stdout",
     "output_type": "stream",
     "text": [
      "Test Accuracy:  0.3944843042676694\n"
     ]
    }
   ],
   "source": [
    "print(\"Test Accuracy: \",mean_test_acc)"
   ]
  },
  {
   "cell_type": "code",
   "execution_count": 32,
   "metadata": {},
   "outputs": [
    {
     "data": {
      "image/png": "[encoded data removed]",
      "text/plain": [
       "<Figure size 1000x400 with 1 Axes>"
      ]
     },
     "metadata": {
      "image/png": {
       "height": 392,
       "width": 414
      }
     },
     "output_type": "display_data"
    },
    {
     "data": {
      "image/png": "[encoded data removed]",
      "text/plain": [
       "<Figure size 1000x400 with 1 Axes>"
      ]
     },
     "metadata": {
      "image/png": {
       "height": 390,
       "width": 528
      }
     },
     "output_type": "display_data"
    }
   ],
   "source": [
    "# Plot it\n",
    "plt.figure(figsize=(10,4))\n",
    "plt.subplot(121)\n",
    "plt.plot(train_loss, label=\"Training Loss\")\n",
    "plt.plot(valid_loss, label=\"Validation Loss\")\n",
    "plt.xlabel(\"Epoch\")\n",
    "plt.ylabel(\"Loss\")\n",
    "plt.title(\"Training v Validation Loss\")\n",
    "\n",
    "plt.figure(figsize=(10,4))\n",
    "plt.subplot(122)\n",
    "plt.plot(valid_accs)\n",
    "plt.xlabel(\"Epoch\")\n",
    "plt.ylabel(\"Validation Accuracy\")\n",
    "\n",
    "plt.tight_layout()\n",
    "plt.show()"
   ]
  },
  {
   "cell_type": "markdown",
   "metadata": {
    "colab_type": "text",
    "id": "sZilPcMCmOED"
   },
   "source": [
    "# Problem 4 #\n",
    "\n",
    "Write a function that randomly chooses a sequence in the test data (which has length 100) and predicts the next $n$ elements, defaulting to 500. \n",
    "Combine the initial sequence with the predicted elements, convert them to pitches, and return this list of 600 pitches."
   ]
  },
  {
   "cell_type": "code",
   "execution_count": 37,
   "metadata": {
    "colab": {},
    "colab_type": "code",
    "id": "3HciNV-gnLOA"
   },
   "outputs": [],
   "source": [
    "def load_model(filename):\n",
    "    \"\"\" Load a saved model to continue training or evaluate \"\"\"\n",
    "    device = torch.device(\"cuda:0\" if torch.cuda.is_available() else \"cpu\")\n",
    "\n",
    "    # n_notes is the number of unique pitches\n",
    "    model = Network(n_notes,32)\n",
    "    model = model.to(device)\n",
    "    criterion = nn.CrossEntropyLoss()\n",
    "    optimizer = torch.optim.RMSprop(model.parameters(),lr=.001)\n",
    "\n",
    "    checkpoint = torch.load(filename,map_location=torch.device('cpu'))\n",
    "    model.load_state_dict(checkpoint['model_state_dict'])\n",
    "    optimizer.load_state_dict(checkpoint['optimizer_state_dict'])\n",
    "    last_epoch = checkpoint['epoch']\n",
    "    loss = checkpoint['loss']\n",
    "    model.eval() # Toggle evaluation mode\n",
    "\n",
    "    return model, criterion, optimizer"
   ]
  },
  {
   "cell_type": "code",
   "execution_count": 124,
   "metadata": {},
   "outputs": [],
   "source": [
    "def predict(n):\n",
    "    model.to(device)\n",
    "    idx = np.random.randint(0,len(test))\n",
    "    seq, label = test[idx][0], test[idx][1]\n",
    "    \n",
    "    seqs = seq.tolist()\n",
    "    (h0,h1) = model.init_hidden(1)\n",
    "    for _ in range(n):\n",
    "        seq = seq.unsqueeze(0).to(device)\n",
    "        y_hat, _ = model(seq, (h0,h1))\n",
    "        seqs.append(y_hat.argmax(1).item())\n",
    "        seq = torch.LongTensor(seqs[-100:])\n",
    "    \n",
    "    return seqs"
   ]
  },
  {
   "cell_type": "code",
   "execution_count": 125,
   "metadata": {},
   "outputs": [],
   "source": [
    "prediction = predict(500)"
   ]
  },
  {
   "cell_type": "code",
   "execution_count": 126,
   "metadata": {},
   "outputs": [
    {
     "name": "stdout",
     "output_type": "stream",
     "text": [
      "['E5', 'E4', 'E5', 'B-5', 'G5', 'C#4', 'C#5', 'C#4', 'C#5', 'A5', 'F#5', 'D4', 'D5', 'D4', 'D5', 'D5', 'G#3', 'D6', 'G#4', 'C#5', 'A3', 'C#6', 'A4', 'C5', 'F#3', 'C6', 'F#4', 'B4', 'G3', 'B5', 'G4', 'B4', 'F3', 'B5', 'F4', 'B-4', 'F#3', 'B-5', 'F#4', 'A4', 'E-3', 'A5', 'E-4', 'G#4', 'E3', 'G#5', 'E4', 'G4', 'C#4', 'A3', 'G5', 'G4', 'G5', 'F#4', 'D4', 'B3', 'F#5', 'F#4', 'F#5', 'E4', 'B3', 'G3', 'E5', 'E4', 'E5', 'D4', 'G#3', 'D5', 'D4', 'D5', 'C#4', 'A3', 'C#5', 'D4', 'D5', 'E-4', 'E-5', 'E4', 'E5', 'F4', 'F5', 'F#4', 'F#5', 'G4', 'G5', 'G#4', 'G#5', 'A4', 'A5', 'A3', 'A4', 'A3', 'A4', 'E5', 'C#5', 'G3', 'G4', 'G3', 'G4', 'A4', 'F#3', 'F#4', 'A5', 'F#3', 'A5', 'F#3', 'G5', 'E3', 'F#5', 'A2', 'D6', 'D3', 'F#5', 'F#3', 'A5', 'G2', 'G5', 'F#5', 'A3', 'E5', 'C#5', 'G4', 'D5', 'F#4', 'B4', 'F#5', 'F#4', 'D4', 'G5', 'E5', 'E4', 'G#5', 'B4', 'E4', 'E2.E3', 'A5.G#5', 'B5', 'B4', 'B5', 'B4', 'G4', 'E2.E3', 'G4', 'B4', 'G4', 'G5', 'G4', 'G5', 'G4', 'D3.D4', 'G4', 'B4.D5', 'A4', 'G5', 'F#5', 'G5', 'F#5', 'G5', 'B-4', 'F#5', 'F#4', 'G4', 'G5', 'E5', 'C4', 'C#5', 'E4', 'C5', 'B-4', 'B4', 'A4', 'G4', 'F#4', 'F#4', 'E4', 'E-4', 'B4', 'E-4', 'D4', 'B5', 'B4', 'D4', 'D4', 'E2.E3', 'B5', 'B4', 'G4', 'E4', 'F#2.F#3', 'B4', 'G4', 'E2.E3', 'G2.G3', 'F#2.F#3', 'B4', 'E-2.E-3', 'E2.E3', 'E2.E3', 'E2.E3', 'E5', 'F5', 'A4', 'E5', 'G4', 'E4.F#4', 'F4', 'D3.D4', 'D3', 'C6', 'B5', 'A5', 'G5', 'F5', 'E5', 'F5', 'A3', 'F3', 'E5', 'D5', 'C5', 'A3', 'F3', 'A4', 'F5', 'D4', 'C5', 'E5', 'F4', 'D5', 'G#4', 'B4', 'D4', 'C5', 'D5', 'E4', 'E5', 'C5', 'A4', 'C4', 'E4', 'C5', 'G4', 'D5.E5', 'D4', 'D5.E5', 'F4', 'D5.E5', 'B3', 'D5.E5', 'F4', 'D5.E5', 'G3', 'F4', 'D5.E5', 'B3', 'C5.D5', 'F4', 'C5', 'C4', 'G4', 'E5', 'E4', 'C5', 'C4', 'G4', 'E4', 'G4', 'G5', 'C4', 'E4', 'G4', 'B5.C6', 'C6', 'F4', 'G4', 'E6', 'E4', 'E6', 'G5', 'C4', 'C6', 'G5', 'E5', 'G#5', 'A3', 'F3', 'A5', 'C5', 'A3', 'A5', 'C4', 'C5', 'F3', 'F4', 'A3', 'A5', 'F4', 'C5', 'A5', 'G4', 'C5', 'A5', 'G4', 'G5', 'B4', 'G3', 'F5', 'D5', 'B4', 'F4', 'A3', 'C5', 'C4', 'E4', 'C5', 'G4', 'C6', 'F4', 'A5', 'G4', 'C5', 'A4', 'B-5', 'C5', 'C4', 'A5', 'B4', 'F#5', 'A4', 'C5', 'C4', 'F5', 'A4', 'C4', 'A5', 'B-4', 'G5', 'C5', 'E5', 'D5', 'C4', 'F5', 'E5', 'G3', 'C4', 'D5', 'G3', 'B3', 'C5', 'F2.F3', 'D5', 'E5', 'F5', 'G5', 'A5', 'B5', 'C6', 'G5', 'G5', 'E4', 'G3', 'G5', 'A5', 'G5', 'D4', 'G3', 'F5', 'G5', 'F5', 'C4', 'G3', 'E5', 'F5', 'E5', 'B3', 'G3', 'D5', 'E5', 'D5', 'C5', 'C4', 'G4', 'E5', 'C5', 'G5', 'C6', 'E5', 'C5', 'G5', 'E5', 'C5', 'G4', 'D5', 'A5', 'F4', 'C6', 'F#4', 'A5', 'F#5', 'G5', 'G4', 'A5', 'B5', 'C6', 'G5', 'F#5', 'E5', 'D5', 'C5', 'G4', 'B4', 'B3', 'D4', 'C4', 'A5', 'F5', 'G5', 'E5', 'F5', 'D5', 'E5', 'C5', 'D5', 'B4', 'C5', 'C2.C3', 'C6', 'E5.G5', 'E2.E3', 'C5', 'G4', 'E4', 'E2.E3', 'G4', 'C2.C3', 'C2.C3', 'C2.C3', 'E4', 'A3.C4', 'C4', 'E3', 'C4', 'C3', 'F#3', 'G3', 'A3', 'G3', 'G2', 'C5', 'A4.D4', 'C4', 'G4', 'E4', 'C4', 'E5', 'F4', 'F3', 'F5', 'D5', 'G3', 'B4', 'F4', 'A3', 'C5', 'E3', 'C4', 'A3', 'C4', 'E5', 'G3', 'C4', 'C5', 'G3', 'C4', 'E5.F5', 'G3', 'D5.E5', 'B3', 'C5.D5', 'C5', 'E5.G5', 'C4', 'C5', 'E3', 'C3', 'E5', 'C4', 'C5', 'G3', 'B4', 'E4', 'E3', 'F3', 'G3', 'E-5.F5', 'E5', 'F5', 'E5', 'C4.E4', 'G3', 'A3', 'G3', 'C5', 'F3', 'D3', 'E3', 'C5', 'C3', 'E3', 'B4', 'F3', 'D3', 'B4', 'A4', 'E3', 'C3', 'C2', 'A4', 'E2', 'A2', 'A4', 'F2', 'E2', 'B-2', 'B2', 'C3', 'A4', 'E2', 'A2', 'F2', 'E2', 'G#2', 'E2', 'G2', 'C3', 'E3', 'E3', 'A3', 'E3', 'B4', 'E4.G#4', 'E5', 'A4', 'E3', 'A2', 'D5', 'A2', 'C#6', 'B5', 'A3', 'A5', 'B5', 'A5', 'A3', 'G5', 'F#5', 'B3', 'E5', 'E-5', 'E5', 'F#5', 'E5', 'C#4', 'E5', 'E5', 'E5', 'E5', 'F5', 'D5', 'C#5', 'B4', 'A4', 'G#4', 'A4', 'B4', 'C#5', 'D5', 'E5', 'F#5', 'G#5', 'A5', 'B-5', 'B5', 'A5', 'G5', 'F#5', 'E-5', 'E5', 'F5', 'F#5', 'G5', 'A4', 'F#4', 'A3', 'E5', 'C4', 'F5', 'A4', 'B3', 'E-5']\n"
     ]
    }
   ],
   "source": [
    "key_list = list(pitches_integers.keys())\n",
    "val_list = list(pitches_integers.values())\n",
    "\n",
    "pitches = [key_list[val_list.index(i)] for i in prediction]\n",
    "print(pitches)"
   ]
  },
  {
   "cell_type": "markdown",
   "metadata": {
    "colab_type": "text",
    "id": "-syHIeZ4nLhh"
   },
   "source": [
    "# Problem 5 # \n",
    "\n",
    "Convert the predictions from Problem 4 into Music21 Note and Chord objects and save it as 'mozart.mid'."
   ]
  },
  {
   "cell_type": "code",
   "execution_count": null,
   "metadata": {},
   "outputs": [],
   "source": [
    "notes = []\n",
    "\n",
    "for offset, pitch in enumerate(pitches):\n",
    "    new_note = note.Note(pitch)\n",
    "    # Specify Piano as the instrument type\n",
    "    new_note.storedInstrument = instrument.Piano()\n",
    "    notes.append(new_note)\n",
    "# Create a Chord object using list of Note objects\n",
    "new_chord = chord.Chord(notes)\n",
    "# Specify offset for this object\n",
    "new_chord.offset = offset\n",
    "\n",
    "midi_stream = stream.Stream(notes)\n",
    "midi_stream.write('midi', fp='mozart.mid')"
   ]
  }
 ],
 "metadata": {
  "colab": {
   "collapsed_sections": [],
   "name": "rnn.ipynb",
   "provenance": []
  },
  "kernelspec": {
   "display_name": "Python 3 (ipykernel)",
   "language": "python",
   "name": "python3"
  },
  "language_info": {
   "codemirror_mode": {
    "name": "ipython",
    "version": 3
   },
   "file_extension": ".py",
   "mimetype": "text/x-python",
   "name": "python",
   "nbconvert_exporter": "python",
   "pygments_lexer": "ipython3",
   "version": "3.8.13"
  }
 },
 "nbformat": 4,
 "nbformat_minor": 4
}
